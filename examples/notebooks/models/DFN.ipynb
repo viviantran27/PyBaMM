{
 "cells": [
  {
   "cell_type": "markdown",
   "metadata": {},
   "source": [
    "# Doyle-Fuller-Newman Model (DFN)"
   ]
  },
  {
   "cell_type": "markdown",
   "metadata": {},
   "source": [
    "## Dimensionless Model Equations"
   ]
  },
  {
   "cell_type": "markdown",
   "metadata": {},
   "source": [
    "The DFN comprises equations for charge and mass conservation in the solid the solid and electrolyte, and also prescribes behaviour for the electrochemical reactions occuring on the interface between the solid an electrolyte. For more information please see [1] or other standard texts. \n",
    "\n",
    "Below we summarise the dimensionless form of the DFN, with all parameters give in the table at the end of this notebook. Here we use a roman subscript $\\text{k} \\in \\text{n, s, p}$ is used to denote the regions negative electrode, separator, and positive electrode, respectively.\n",
    "\n",
    "The model equations for the DFN read: \n",
    "\n",
    "#### Charge conservation:\n",
    "\\begin{align}\n",
    "    \\frac{\\partial i_{\\text{e,k}}}{\\partial x} &= \\begin{cases}\n",
    "                                                      j_{\\text{k}}, \\quad &\\text{k} = \\text{n, p}\\\\ \n",
    "                                                      0, \\qquad &\\text{k} = \\text{s}\n",
    "                                                \\end{cases} , && \\\\\n",
    "    \\mathcal{C}_{\\text{e}} i_{\\text{e,k}} &= \\epsilon_{\\text{k}}^{\\text{b}} \\gamma_{\\text{e}} \\kappa_{\\text{e}}(c_{\\text{e,k}}) \\left( - \\frac{\\partial \\phi_{\\text{e,k}}}{\\partial x} + 2(1-t^+)\\frac{\\partial}{\\partial x}\\left(\\log(c_{\\text{e,k}})\\right)\\right), && \\text{k} \\in \\text{n, s, p}, \\\\ \n",
    "    I-i_{\\text{e,k}} &= - \\sigma_{\\text{k}} \\frac{\\partial \\phi_{\\text{e,k}}}{\\partial x}, && \\text{k} \\in \\text{n, s, p}.\n",
    "\\end{align}\n",
    "\n",
    "#### Mass conservation:\n",
    "\\begin{align}\n",
    "\\mathcal{C}_{\\text{e}} \\epsilon_{\\text{k}} \\gamma_{\\text{e}} \\frac{\\partial c_{\\text{e,k}}}{\\partial t} &= -\\gamma_{\\text{e}} \\frac{\\partial N_{\\text{e,k}}}{\\partial x} + \\mathcal{C}_{\\text{e}} \\frac{\\partial i_{\\text{e,k}}}{\\partial x}, && \\text{k} \\in \\text{n, s, p},\\\\\n",
    "N_{\\text{e,k}} &= -\\epsilon_{\\text{k}}^{\\text{b}} D_{\\text{e}}(c_{\\text{e,k}}) \\frac{\\partial c_{\\text{e,k}}}{\\partial x} +  \\frac{\\mathcal{C}_{\\text{e}} t^+}{\\gamma_{\\text{e}}} i_{\\text{e,k}},\n",
    " && \\text{k} \\in \\text{n, s, p}, \\\\\n",
    "\\mathcal{C}_{\\text{k}} \\frac{\\partial c_{\\text{s,k}}}{\\partial t} &= -\\frac{1}{r_{\\text{k}}^2} \\frac{\\partial}{\\partial r_{\\text{k}}} \\left(r_{\\text{k}}^2 N_{\\text{s,k}}\\right), && \\text{k} \\in \\text{n, p},\\\\\n",
    "N_{\\text{s,k}} &= -D_{\\text{s,k}}(c_{\\text{s,k}}) \\frac{\\partial c_{\\text{s,k}}}{\\partial r_{\\text{k}}}, && \\text{k} \\in \\text{n, p}.  \n",
    "\\end{align}\n",
    "\n",
    "\n",
    "#### Electrochemical reactions:\n",
    "\\begin{align}\n",
    "j_{\\text{k}} &= 2 j_{\\text{0,k}} \\sinh\\left(\\frac{ \\eta_{\\text{k}}}{2} \\right), && \\text{k} \\in \\text{n, p}, \\\\\n",
    "j_{\\text{0,k}} &= \\frac{\\gamma_{\\text{k}}}{\\mathcal{C}_{\\text{r,k}}} c_{\\text{s,k}}^{1/2} (1-c_{\\text{s,k}})^{1/2}c_{\\text{e,k}}^{1/2}\\big|_{r_{\\text{k}}=1}, && \\text{k} \\in \\text{n, p}, \\\\\n",
    "\\eta_{\\text{k}} &= \\phi_{\\text{s,k}} - \\phi_{\\text{e,k}} - U_{\\text{k}}(c_{\\text{s,k}}\\big|_{r_{\\text{k}}=1}),  && \\text{k} \\in \\text{n, p}.\n",
    "\\end{align}\n",
    "\n",
    "\n",
    "These are to be solved subject to the following boundary conditions:\n",
    "\n",
    "#### Current:\n",
    "\\begin{gather}\n",
    "i_{\\text{e,n}}\\big|_{x=0} = 0, \\quad i_{\\text{e,p}}\\big|_{x=1}=0,  \\\\\n",
    "\\phi_{\\text{e,n}}\\big|_{x=L_{\\text{n}}} = \\phi_{\\text{e,s}}\\big|_{x=L_{\\text{n}}}, \\quad i_{\\text{e,n}}\\big|_{x=L_{\\text{n}}} = i_{\\text{e,s}}\\big\\vert_{x=L_{\\text{n}}} = I, \\\\ \n",
    "\\phi_{\\text{e,s}}\\big|_{x=1-L_{\\text{p}}} = \\phi_{\\text{e,p}}\\big|_{x=1-L_{\\text{p}}}, \\quad \n",
    "    i_{\\text{e,s}}\\big|_{x=1-L_{\\text{p}}} = i_{\\text{e,p}}\\big|_{x=1-L_{\\text{p}}} = I.\n",
    "\\end{gather}\n",
    "\n",
    "#### Concentration in the electrolyte:\n",
    "\\begin{gather}\n",
    "N_{\\text{e,n}}\\big|_{x=0} = 0, \\quad N_{\\text{e,p}}\\big|_{x=1}=0,\\\\ \n",
    "c_{\\text{e,n}}\\big|_{x=L_{\\text{n}}} = c_{\\text{e,s}}|_{x=L_{\\text{n}}}, \\quad N_{\\text{e,n}}\\big|_{x=L_{\\text{n}}}=N_{\\text{e,s}}\\big|_{x=L_{\\text{n}}}, \\\\\n",
    "c_{\\text{e,s}}|_{x=1-L_{\\text{p}}}=c_{\\text{e,p}}|_{x=1-L_{\\text{p}}}, \\quad N_{\\text{e,s}}\\big|_{x=1-L_{\\text{p}}}=N_{\\text{e,p}}\\big|_{x=1-L_{\\text{p}}}. &&\n",
    "\\end{gather}\n",
    "\n",
    "####  Concentration in the electrode active material:\n",
    "\\begin{gather}\n",
    "N_{\\text{s,k}}\\big|_{r_{\\text{k}}=0} = 0, \\quad \\text{k} \\in \\text{n, p}, \\quad \\ \\ - \\frac{a_{\\text{k}}\\gamma_{\\text{k}}}{\\mathcal{C}_{\\text{k}}} N_{\\text{s,k}}\\big|_{r_{\\text{k}}=1} = j_{\\text{k}}, \\quad \\text{k} \\in \\text{n, p}.\n",
    "\\end{gather}\n",
    "\n",
    "#### Reference potential:\n",
    "$$\\phi_{\\text{s,cn}} = 0, \\quad  \\boldsymbol{x} \\in \\partial \\Omega_{\\text{tab,n}}.$$\n",
    "\n",
    "\n",
    "And the initial conditions:\n",
    "\n",
    "\\begin{align}\n",
    "&c_{\\text{s,k}}(x,r,0) = c_{\\text{s,k,0}}, \\quad \\phi_{\\text{s,n}}(x,0) = 0, \\quad \\phi_{\\text{s,p}}(x,0) = \\phi_{\\text{s,p,0}}, && \\text{k} \\in \\text{n, p},\\\\\n",
    "&\\phi_{\\text{e,k}}(x,0) = \\phi_{\\text{e,0}}, \\quad c_{\\text{e,k}}(x,0) = 1, && \\text{k} \\in \\text{n, s, p}. \n",
    "\\end{align}\n"
   ]
  },
  {
   "cell_type": "markdown",
   "metadata": {},
   "source": [
    "## Example solving DFN using PyBaMM"
   ]
  },
  {
   "cell_type": "markdown",
   "metadata": {},
   "source": [
    "Below we show how to solve the DFN model, using the default geometry, mesh, paramters, discretisation and solver provided with PyBaMM. For a more detailed example, see the notebook on the [SPM](https://github.com/pybamm-team/PyBaMM/blob/master/examples/notebooks/models/SPM.ipynb).\n",
    "\n",
    "First we need to import pybamm, and then change our working directory to the root of the pybamm folder."
   ]
  },
  {
   "cell_type": "code",
   "execution_count": 1,
   "metadata": {},
   "outputs": [],
   "source": [
    "import pybamm\n",
    "import numpy as np\n",
    "import os\n",
    "import matplotlib.pyplot as plt\n",
    "os.chdir(pybamm.__path__[0]+'/..')"
   ]
  },
  {
   "cell_type": "markdown",
   "metadata": {},
   "source": [
    "We then get the DFN model equations, and process the model using default settings for the geometry and parameters."
   ]
  },
  {
   "cell_type": "code",
   "execution_count": 2,
   "metadata": {},
   "outputs": [],
   "source": [
    "# load model\n",
    "model = pybamm.lithium_ion.DFN()\n",
    "\n",
    "# create geometry\n",
    "geometry = model.default_geometry\n",
    "\n",
    "# load parameter values and process model and geometry\n",
    "param = model.default_parameter_values\n",
    "param.process_model(model)\n",
    "param.process_geometry(geometry)"
   ]
  },
  {
   "cell_type": "markdown",
   "metadata": {},
   "source": [
    "The next step is to set the mesh and discretise the model. Again, we choose the default settings."
   ]
  },
  {
   "cell_type": "code",
   "execution_count": 3,
   "metadata": {},
   "outputs": [
    {
     "data": {
      "text/plain": [
       "<pybamm.models.full_battery_models.lithium_ion.dfn.DFN at 0x7f5fe5a04f60>"
      ]
     },
     "execution_count": 3,
     "metadata": {},
     "output_type": "execute_result"
    }
   ],
   "source": [
    "# set mesh\n",
    "mesh = pybamm.Mesh(geometry, model.default_submesh_types, model.default_var_pts)\n",
    "\n",
    "# discretise model\n",
    "disc = pybamm.Discretisation(mesh, model.default_spatial_methods)\n",
    "disc.process_model(model)"
   ]
  },
  {
   "cell_type": "markdown",
   "metadata": {},
   "source": [
    "The model is now ready to be solved. We select the default DAE solver for the DFN. Note that in order to succesfully solve the system of DAEs we are required to give consistant initial conditions. This is handled automatically by PyBaMM during the solve operation.\n"
   ]
  },
  {
   "cell_type": "code",
   "execution_count": 4,
   "metadata": {},
   "outputs": [],
   "source": [
    "# solve model\n",
    "solver = model.default_solver\n",
    "t_eval = np.linspace(0, 1, 300)\n",
    "solution = solver.solve(model, t_eval)\n"
   ]
  },
  {
   "cell_type": "markdown",
   "metadata": {},
   "source": [
    "To get a quick overview of the model outputs we can use the QuickPlot class, which plots a common set of useful outputs. The method Quickplot.plot(t) is simply a function which either can be used satically to create a plot for a particular time, or interactively with a slider widget."
   ]
  },
  {
   "cell_type": "code",
   "execution_count": 5,
   "metadata": {},
   "outputs": [
    {
     "data": {
      "application/vnd.jupyter.widget-view+json": {
       "model_id": "7f5052f5e0654d749080b4360008678b",
       "version_major": 2,
       "version_minor": 0
      },
      "text/plain": [
       "interactive(children=(FloatSlider(value=0.0, description='t', max=0.15719063545150502, step=0.05), Output()), …"
      ]
     },
     "metadata": {},
     "output_type": "display_data"
    }
   ],
   "source": [
    "quick_plot = pybamm.QuickPlot(solution)\n",
    "\n",
    "import ipywidgets as widgets\n",
    "widgets.interact(quick_plot.plot, t=widgets.FloatSlider(min=0,max=solution.t[-1],step=0.05,value=0));"
   ]
  },
  {
   "cell_type": "markdown",
   "metadata": {},
   "source": [
    "## Dimensionless Parameters"
   ]
  },
  {
   "cell_type": "markdown",
   "metadata": {},
   "source": [
    "In the table below, we provide the dimensionless parameters in the DFN in terms of the dimensional parameters in mcmb2528_lif6-in-ecdmc_lico2_parameters_Dualfoil.csv. We use a superscript * to indicate dimensional quanitities. \n",
    "\n",
    "| Parameter                 | Expression                              |Interpretation                             |\n",
    "|:--------------------------|:----------------------------------------|:------------------------------------------|\n",
    "| $L_{\\text{k}}$            | $L_{\\text{k}}^*/L^*$                    | Ratio of region thickness to cell thickness|\n",
    "|$\\sigma_{\\text{k}}$        | $\\sigma_{\\text{k}}^*R^* T^*/(I^*F^*L^*)$| Dimensionless solid conductivity |\n",
    "|$\\mathcal{C}_{\\text{k}}$   | $\\tau_{\\text{k}}^*/\\tau_{\\text{d}}^*$   | Ratio of solid diffusion and discharge timescales |\n",
    "|$\\mathcal{C}_{\\text{e}}$   |$\\tau_{\\text{e}}^*/\\tau_{\\text{d}}^*$    |Ratio of electrolyte transport and discharge timescales|\n",
    "|$\\mathcal{C}_{\\text{r,k}}$ |$\\tau_{\\text{r,k}}^*/\\tau_{\\text{d}}^*$  |Ratio of reaction and discharge timescales|\n",
    "|$a_{\\text{k}}$             |$a_{\\text{k}}^* R_{\\text{k}}^*$          | Product of particle radius and surface area density|\n",
    "|$\\gamma_{\\text{k}}$        |$c_{\\text{k,max}}^*/c_{\\text{n,max}}^*$  |Ratio of maximum lithium concentrations in solid|\n",
    "|$\\gamma_{\\text{e}}$        |$c_{\\text{e,typ}}^*/c_{\\text{n,max}}^*$  |Ratio of maximum lithium concentration in the negative electrode solid and typical electrolyte concentration|\n",
    "\n",
    "Note that the dimensionless parameters $\\epsilon_{\\text{k}}$, $\\text{b}$, and $t^+$ are already provided in the parameter file mcmb2528_lif6-in-ecdmc_lico2_parameters_Dualfoil.csv"
   ]
  },
  {
   "cell_type": "markdown",
   "metadata": {},
   "source": [
    "## References\n",
    "[1] Doyle, Marc, Thomas F. Fuller, and John Newman. \"Modeling of galvanostatic charge and discharge of the lithium/polymer/insertion cell.\" Journal of the Electrochemical Society 140.6 (1993): 1526-1533."
   ]
  },
  {
   "cell_type": "code",
   "execution_count": null,
   "metadata": {},
   "outputs": [],
   "source": []
  }
 ],
 "metadata": {
  "kernelspec": {
   "display_name": "Python 3",
   "language": "python",
   "name": "python3"
  },
  "language_info": {
   "codemirror_mode": {
    "name": "ipython",
    "version": 3
   },
   "file_extension": ".py",
   "mimetype": "text/x-python",
   "name": "python",
   "nbconvert_exporter": "python",
   "pygments_lexer": "ipython3",
   "version": "3.6.8"
  }
 },
 "nbformat": 4,
 "nbformat_minor": 2
}
