{
 "cells": [
  {
   "cell_type": "markdown",
   "metadata": {},
   "source": [
    "# Using submodels in PyBaMM\n",
    "In this notebook we show how to modify existing models by swapping out submodels, and how to build your own model from scratch using exisitng submodels. To see all of the models and submodels available in PyBaMM, please take a look at the documentation [here](https://pybamm.readthedocs.io/en/latest/source/models/index.html)."
   ]
  },
  {
   "cell_type": "markdown",
   "metadata": {},
   "source": [
    "## Changing a submodel in an exisiting battery model\n",
    "PyBaMM is designed to be a flexible modelling package that allows users to easily compare different models and numerical techniques within a common framework. Battery models within PyBaMM are built up using a number of submodels that describe different physics included within the model, such as mass conservation in the electrolyte or charge conservation in the solid. For ease of use, a number of popular battery models are pre-configured in PyBaMM. As an example, we look at the Single Particle Model (for more information see [here](./models/SPM.ipynb)). First we import PyBaMM and any other packages we need"
   ]
  },
  {
   "cell_type": "code",
   "execution_count": 1,
   "metadata": {},
   "outputs": [],
   "source": [
    "import pybamm\n",
    "import os\n",
    "import numpy as np\n",
    "import matplotlib.pyplot as plt\n",
    "os.chdir(pybamm.__path__[0]+'/..')"
   ]
  },
  {
   "cell_type": "markdown",
   "metadata": {},
   "source": [
    "Then we load the SPM"
   ]
  },
  {
   "cell_type": "code",
   "execution_count": 2,
   "metadata": {},
   "outputs": [],
   "source": [
    "model = pybamm.lithium_ion.SPM()"
   ]
  },
  {
   "cell_type": "markdown",
   "metadata": {},
   "source": [
    "We can look at the submodels that make up the SPM by accessing `model.submodels`, which is a dictionary of the submodel's name (i.e. the physics it represents) and the submodel that is selected"
   ]
  },
  {
   "cell_type": "code",
   "execution_count": 3,
   "metadata": {},
   "outputs": [
    {
     "name": "stdout",
     "output_type": "stream",
     "text": [
      "external circuit <pybamm.models.submodels.external_circuit.current_control_external_circuit.CurrentControl object at 0x130e007b8>\n",
      "porosity <pybamm.models.submodels.porosity.constant_porosity.Constant object at 0x130e00898>\n",
      "electrolyte tortuosity <pybamm.models.submodels.tortuosity.bruggeman_tortuosity.Bruggeman object at 0x130e00940>\n",
      "electrode tortuosity <pybamm.models.submodels.tortuosity.bruggeman_tortuosity.Bruggeman object at 0x130e00978>\n",
      "convection <pybamm.models.submodels.convection.no_convection.NoConvection object at 0x130e009b0>\n",
      "negative interface <pybamm.models.submodels.interface.inverse_kinetics.inverse_butler_volmer.InverseButlerVolmer object at 0x130e009e8>\n",
      "positive interface <pybamm.models.submodels.interface.inverse_kinetics.inverse_butler_volmer.InverseButlerVolmer object at 0x130e00a20>\n",
      "negative particle <pybamm.models.submodels.particle.fickian.fickian_single_particle.SingleParticle object at 0x130e00a58>\n",
      "positive particle <pybamm.models.submodels.particle.fickian.fickian_single_particle.SingleParticle object at 0x130e00a90>\n",
      "negative electrode <pybamm.models.submodels.electrode.ohm.leading_ohm.LeadingOrder object at 0x130e00ac8>\n",
      "leading-order electrolyte conductivity <pybamm.models.submodels.electrolyte.stefan_maxwell.conductivity.leading_stefan_maxwell_conductivity.LeadingOrder object at 0x130e00b00>\n",
      "electrolyte diffusion <pybamm.models.submodels.electrolyte.stefan_maxwell.diffusion.constant_stefan_maxwell_diffusion.ConstantConcentration object at 0x130e00b38>\n",
      "positive electrode <pybamm.models.submodels.electrode.ohm.leading_ohm.LeadingOrder object at 0x130e00b70>\n",
      "thermal <pybamm.models.submodels.thermal.isothermal.isothermal.Isothermal object at 0x130e00ba8>\n",
      "current collector <pybamm.models.submodels.current_collector.homogeneous_current_collector.Uniform object at 0x130e00be0>\n"
     ]
    }
   ],
   "source": [
    "for name, submodel in model.submodels.items():\n",
    "    print(name, submodel)"
   ]
  },
  {
   "cell_type": "markdown",
   "metadata": {},
   "source": [
    "When you load a model in PyBaMM it builds by default. Building the model sets all of the model variables and sets up any variables which are coupled between different submodels: this is the process which couples the submodels together and allows one submodel to access variables from another. If you would like to swap out a submodel in an exisitng battery model you need to load it without building it by passing the keyword `build=False`"
   ]
  },
  {
   "cell_type": "code",
   "execution_count": 4,
   "metadata": {},
   "outputs": [],
   "source": [
    "model = pybamm.lithium_ion.SPM(build=False)"
   ]
  },
  {
   "cell_type": "markdown",
   "metadata": {},
   "source": [
    "This collects all of the submodels which make up the SPM, but doesn't build the model. Now you are free to swap out one submodel for another. For instance, you may want to assume that diffusion within the negative particles is infinitely fast, so that the PDE describing diffusion is replaced with an ODE for the uniform particle concentration. To change a submodel you simply update the dictionary entry"
   ]
  },
  {
   "cell_type": "code",
   "execution_count": 5,
   "metadata": {},
   "outputs": [],
   "source": [
    "model.submodels[\"negative particle\"] = pybamm.particle.fast.SingleParticle(model.param, \"Negative\")"
   ]
  },
  {
   "cell_type": "markdown",
   "metadata": {},
   "source": [
    "Now if we look at the submodels again we see that the model for the negative particle has been changed"
   ]
  },
  {
   "cell_type": "code",
   "execution_count": 6,
   "metadata": {},
   "outputs": [
    {
     "name": "stdout",
     "output_type": "stream",
     "text": [
      "external circuit <pybamm.models.submodels.external_circuit.current_control_external_circuit.CurrentControl object at 0x13132aba8>\n",
      "porosity <pybamm.models.submodels.porosity.constant_porosity.Constant object at 0x13132ac88>\n",
      "electrolyte tortuosity <pybamm.models.submodels.tortuosity.bruggeman_tortuosity.Bruggeman object at 0x13132ad30>\n",
      "electrode tortuosity <pybamm.models.submodels.tortuosity.bruggeman_tortuosity.Bruggeman object at 0x13132ad68>\n",
      "convection <pybamm.models.submodels.convection.no_convection.NoConvection object at 0x13132ada0>\n",
      "negative interface <pybamm.models.submodels.interface.inverse_kinetics.inverse_butler_volmer.InverseButlerVolmer object at 0x13132add8>\n",
      "positive interface <pybamm.models.submodels.interface.inverse_kinetics.inverse_butler_volmer.InverseButlerVolmer object at 0x13132ae10>\n",
      "negative particle <pybamm.models.submodels.particle.fast.fast_single_particle.SingleParticle object at 0x130e00b38>\n",
      "positive particle <pybamm.models.submodels.particle.fickian.fickian_single_particle.SingleParticle object at 0x13132ae80>\n",
      "negative electrode <pybamm.models.submodels.electrode.ohm.leading_ohm.LeadingOrder object at 0x13132aeb8>\n",
      "leading-order electrolyte conductivity <pybamm.models.submodels.electrolyte.stefan_maxwell.conductivity.leading_stefan_maxwell_conductivity.LeadingOrder object at 0x13132aef0>\n",
      "electrolyte diffusion <pybamm.models.submodels.electrolyte.stefan_maxwell.diffusion.constant_stefan_maxwell_diffusion.ConstantConcentration object at 0x13132af28>\n",
      "positive electrode <pybamm.models.submodels.electrode.ohm.leading_ohm.LeadingOrder object at 0x13132af60>\n",
      "thermal <pybamm.models.submodels.thermal.isothermal.isothermal.Isothermal object at 0x13132af98>\n",
      "current collector <pybamm.models.submodels.current_collector.homogeneous_current_collector.Uniform object at 0x13132afd0>\n"
     ]
    }
   ],
   "source": [
    "for name, submodel in model.submodels.items():\n",
    "    print(name, submodel)"
   ]
  },
  {
   "cell_type": "markdown",
   "metadata": {},
   "source": [
    "Building the model also sets up the equations, boundary and initial conditions for the model. For example, if we look at `model.rhs` before building we see that it is empty "
   ]
  },
  {
   "cell_type": "code",
   "execution_count": 7,
   "metadata": {},
   "outputs": [
    {
     "data": {
      "text/plain": [
       "{}"
      ]
     },
     "execution_count": 7,
     "metadata": {},
     "output_type": "execute_result"
    }
   ],
   "source": [
    "model.rhs"
   ]
  },
  {
   "cell_type": "markdown",
   "metadata": {},
   "source": [
    "If we try to use this empty model, PyBaMM will give an error. So, before proceeding we must build the model"
   ]
  },
  {
   "cell_type": "code",
   "execution_count": 8,
   "metadata": {},
   "outputs": [],
   "source": [
    "model.build_model()"
   ]
  },
  {
   "cell_type": "markdown",
   "metadata": {},
   "source": [
    "Now if we look at `model.rhs` we see that it contains an entry relating to the concentration in each particle, as expected for the SPM"
   ]
  },
  {
   "cell_type": "code",
   "execution_count": 9,
   "metadata": {},
   "outputs": [
    {
     "data": {
      "text/plain": [
       "{Variable(-0x2c47f6fd051d1243, Discharge capacity [A.h], children=[], domain=[], auxiliary_domains={}): Division(-0x70df7b427b87dd10, /, children=['Current function [A] * 96485.33289 * Maximum concentration in negative electrode [mol.m-3] * Negative electrode thickness [m] + Separator thickness [m] + Positive electrode thickness [m] / function (absolute)', '3600.0'], domain=[], auxiliary_domains={}),\n",
       " Variable(0x5e5659f748ce0d05, X-averaged negative particle surface concentration, children=[], domain=['current collector'], auxiliary_domains={}): Division(0x4b85bce951b678a1, /, children=['-3.0 * broadcast(Current function [A] / Typical current [A] * function (sign)) / Negative electrode thickness [m] / Negative electrode thickness [m] + Separator thickness [m] + Positive electrode thickness [m]', 'Negative electrode surface area density [m-1] * Negative particle radius [m]'], domain=['current collector'], auxiliary_domains={}),\n",
       " Variable(0x69c21118c2fdf5f5, X-averaged positive particle concentration, children=[], domain=['positive particle'], auxiliary_domains={'secondary': \"['current collector']\"}): Multiplication(-0x6f1911180dfd65f9, *, children=['-1.0 / Positive particle radius [m] ** 2.0 / Positive electrode diffusivity [m2.s-1] / 96485.33289 * Maximum concentration in negative electrode [mol.m-3] * Negative electrode thickness [m] + Separator thickness [m] + Positive electrode thickness [m] / function (absolute)', 'div(-Positive electrode diffusivity [m2.s-1] / Positive electrode diffusivity [m2.s-1] * grad(X-averaged positive particle concentration))'], domain=['positive particle'], auxiliary_domains={'secondary': \"['current collector']\"})}"
      ]
     },
     "execution_count": 9,
     "metadata": {},
     "output_type": "execute_result"
    }
   ],
   "source": [
    "model.rhs"
   ]
  },
  {
   "cell_type": "markdown",
   "metadata": {},
   "source": [
    "Now the model can be processed and solved in the usual way, and we still have access to model defaults such as the default geometry and default spatial methods"
   ]
  },
  {
   "cell_type": "code",
   "execution_count": 10,
   "metadata": {},
   "outputs": [
    {
     "data": {
      "image/png": "[encoded data removed]",
      "text/plain": [
       "<Figure size 432x288 with 1 Axes>"
      ]
     },
     "metadata": {
      "needs_background": "light"
     },
     "output_type": "display_data"
    }
   ],
   "source": [
    "# create geometry\n",
    "geometry = model.default_geometry\n",
    "\n",
    "# load parameter values and process model and geometry\n",
    "param = model.default_parameter_values\n",
    "param.process_model(model)\n",
    "param.process_geometry(geometry)\n",
    "\n",
    "# set mesh\n",
    "mesh = pybamm.Mesh(geometry, model.default_submesh_types, model.default_var_pts)\n",
    "\n",
    "# discretise model\n",
    "disc = pybamm.Discretisation(mesh, model.default_spatial_methods)\n",
    "disc.process_model(model)\n",
    "\n",
    "# solve model\n",
    "t_eval = np.linspace(0, 3600, 100)\n",
    "solution = model.default_solver.solve(model, t_eval)\n",
    "\n",
    "# extract voltage\n",
    "voltage = solution['Terminal voltage [V]']\n",
    "\n",
    "# plot\n",
    "plt.plot(solution[\"Time [h]\"](solution.t), voltage(solution.t))\n",
    "plt.xlabel(r'$t$')\n",
    "plt.ylabel('Terminal voltage')\n",
    "plt.show()"
   ]
  },
  {
   "cell_type": "markdown",
   "metadata": {},
   "source": [
    "## Building a custom model from submodels\n",
    "Instead of editing a pre-exisitng model, you may wish to build your own model from scratch by combining exisitng submodels of you choice. In this section, we build a Single Particle Model in which the diffusion is assumed infinitely fast in both particles. \n",
    "\n",
    "To begin, we load a base lithium-ion model. This sets up the basic model structure behind the scenes, and also sets the default paramaters to be those corresponding to a lithium-ion battery. Note that the base model does not select any default submodels, so there is no need to pass `build=False`."
   ]
  },
  {
   "cell_type": "code",
   "execution_count": 11,
   "metadata": {},
   "outputs": [],
   "source": [
    "model = pybamm.lithium_ion.BaseModel()"
   ]
  },
  {
   "cell_type": "markdown",
   "metadata": {},
   "source": [
    "Submodels can be added to the `model.submodels` dictionary in the same way that we changed the submodels earlier. \n",
    "\n",
    "We use the simplest model for the external circuit, which is the \"current control\" submodel"
   ]
  },
  {
   "cell_type": "code",
   "execution_count": 12,
   "metadata": {},
   "outputs": [],
   "source": [
    "model.submodels[\"external circuit\"] = pybamm.external_circuit.CurrentControl(model.param)"
   ]
  },
  {
   "cell_type": "markdown",
   "metadata": {},
   "source": [
    "We want to build a 1D model, so select the `Uniform` current collector model (if the current collectors are behaving uniformly, then a 1D model is appropriate). We also want the model to be isothermal, so slect the thermal model accordingly. "
   ]
  },
  {
   "cell_type": "code",
   "execution_count": 13,
   "metadata": {},
   "outputs": [],
   "source": [
    "model.submodels[\"current collector\"] = pybamm.current_collector.Uniform(model.param)\n",
    "model.submodels[\"thermal\"] = pybamm.thermal.isothermal.Isothermal(model.param)"
   ]
  },
  {
   "cell_type": "markdown",
   "metadata": {},
   "source": [
    "We assume that the current density varies linearly in the electrodes. This corresponds the the leading-order terms in Ohm's law in the limit in which the SPM is derived in [1]"
   ]
  },
  {
   "cell_type": "code",
   "execution_count": 14,
   "metadata": {},
   "outputs": [],
   "source": [
    "model.submodels[\"negative electrode\"] = pybamm.electrode.ohm.LeadingOrder(\n",
    "    model.param, \"Negative\"\n",
    ")\n",
    "model.submodels[\"positive electrode\"] = pybamm.electrode.ohm.LeadingOrder(\n",
    "    model.param, \"Positive\"\n",
    ")"
   ]
  },
  {
   "cell_type": "markdown",
   "metadata": {},
   "source": [
    "We assume that diffusion is infinitely fast in both the negative and positive particles "
   ]
  },
  {
   "cell_type": "code",
   "execution_count": 15,
   "metadata": {},
   "outputs": [],
   "source": [
    "model.submodels[\"negative particle\"] = pybamm.particle.fast.SingleParticle(\n",
    "    model.param, \"Negative\"\n",
    ")\n",
    "model.submodels[\"positive particle\"] = pybamm.particle.fast.SingleParticle(\n",
    "    model.param, \"Positive\"\n",
    ")"
   ]
  },
  {
   "cell_type": "markdown",
   "metadata": {},
   "source": [
    "In the Single Particle Model, the overpotential can be obtianed by inverting the Butler-Volmer relation, so we choose the `InverseButlerVolmer` submodel for the interface, with the \"main\" lithium-ion reaction"
   ]
  },
  {
   "cell_type": "code",
   "execution_count": 16,
   "metadata": {},
   "outputs": [],
   "source": [
    "model.submodels[\n",
    "    \"negative interface\"\n",
    "] = pybamm.interface.InverseButlerVolmer(model.param, \"Negative\", \"lithium-ion main\")\n",
    "model.submodels[\n",
    "    \"positive interface\"\n",
    "] = pybamm.interface.InverseButlerVolmer(model.param, \"Positive\", \"lithium-ion main\")\n"
   ]
  },
  {
   "cell_type": "markdown",
   "metadata": {},
   "source": [
    "Finally, for the electrolyte we assume that diffusion is infinitely fast so that the concentration is uniform, and also use the leading-order model for charge conservation, which leads to a linear variation in ionic current in the electrodes"
   ]
  },
  {
   "cell_type": "code",
   "execution_count": 17,
   "metadata": {},
   "outputs": [],
   "source": [
    "electrolyte = pybamm.electrolyte.stefan_maxwell\n",
    "model.submodels[\"electrolyte diffusion\"] = electrolyte.diffusion.ConstantConcentration(\n",
    "    model.param\n",
    ")\n",
    "model.submodels[\"electrolyte conductivity\"] = electrolyte.conductivity.LeadingOrder(\n",
    "    model.param\n",
    ")"
   ]
  },
  {
   "cell_type": "markdown",
   "metadata": {},
   "source": [
    "Now that we have set all of the submodels we can build the model"
   ]
  },
  {
   "cell_type": "code",
   "execution_count": 18,
   "metadata": {},
   "outputs": [],
   "source": [
    "model.build_model()"
   ]
  },
  {
   "cell_type": "markdown",
   "metadata": {},
   "source": [
    "The base lithium-ion model doesn't come with a default geometry, so we choose a 1D macroscopic geometry for the electrodes and separator, and 1D microscopic geometry for the particles (i.e. the geometry of the standard Newman model [2])"
   ]
  },
  {
   "cell_type": "code",
   "execution_count": 19,
   "metadata": {},
   "outputs": [],
   "source": [
    "geometry = pybamm.Geometry(\"1D macro\", \"1D micro\")"
   ]
  },
  {
   "cell_type": "markdown",
   "metadata": {},
   "source": [
    "The base model does come with defaults for the parameters, spatial methods and submeshes, so we can now proceed to solve the model in the usual way "
   ]
  },
  {
   "cell_type": "code",
   "execution_count": 20,
   "metadata": {},
   "outputs": [
    {
     "data": {
      "image/png": "[encoded data removed]",
      "text/plain": [
       "<Figure size 432x288 with 1 Axes>"
      ]
     },
     "metadata": {
      "needs_background": "light"
     },
     "output_type": "display_data"
    }
   ],
   "source": [
    "# process model and geometry\n",
    "param = model.default_parameter_values\n",
    "param.process_model(model)\n",
    "param.process_geometry(geometry)\n",
    "\n",
    "# set mesh\n",
    "mesh = pybamm.Mesh(geometry, model.default_submesh_types, model.default_var_pts)\n",
    "\n",
    "# discretise model\n",
    "disc = pybamm.Discretisation(mesh, model.default_spatial_methods)\n",
    "disc.process_model(model)\n",
    "\n",
    "# solve model\n",
    "t_eval = np.linspace(0, 3600, 100)\n",
    "solver = pybamm.ScipySolver()\n",
    "solution = solver.solve(model, t_eval)\n",
    "\n",
    "# extract voltage\n",
    "voltage = solution['Terminal voltage [V]']\n",
    "\n",
    "# plot\n",
    "plt.plot(solution[\"Time [h]\"](solution.t), voltage(solution.t))\n",
    "plt.xlabel(r'$t$')\n",
    "plt.ylabel('Terminal voltage')\n",
    "plt.show()"
   ]
  },
  {
   "cell_type": "markdown",
   "metadata": {},
   "source": [
    "## References\n",
    "[1] SG Marquis, V Sulzer, R Timms, CP Please and SJ Chapman. “An asymptotion derivation of a single particle model with electrolyte”. In: arXiv preprint arXiv:1905.12553 (2019).\n",
    "\n",
    "[2] M Doyle, TF Fuller and J Newman. \"Modeling of galvanostatic charge and discharge of the lithium/polymer/insertion cell.\" Journal of the Electrochemical Society 140.6 (1993): 1526-1533."
   ]
  },
  {
   "cell_type": "code",
   "execution_count": null,
   "metadata": {},
   "outputs": [],
   "source": []
  }
 ],
 "metadata": {
  "kernelspec": {
   "display_name": "Python 3",
   "language": "python",
   "name": "python3"
  },
  "language_info": {
   "codemirror_mode": {
    "name": "ipython",
    "version": 3
   },
   "file_extension": ".py",
   "mimetype": "text/x-python",
   "name": "python",
   "nbconvert_exporter": "python",
   "pygments_lexer": "ipython3",
   "version": "3.7.3"
  }
 },
 "nbformat": 4,
 "nbformat_minor": 2
}
