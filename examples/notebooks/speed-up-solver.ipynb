{
 "cells": [
  {
   "cell_type": "markdown",
   "metadata": {},
   "source": [
    "# Speeding up the solvers"
   ]
  },
  {
   "cell_type": "markdown",
   "metadata": {},
   "source": [
    "This notebook contains a collection of tips on how to speed up the solvers"
   ]
  },
  {
   "cell_type": "code",
   "execution_count": 1,
   "metadata": {},
   "outputs": [
    {
     "name": "stdout",
     "output_type": "stream",
     "text": [
      "\u001b[33mWARNING: You are using pip version 20.2.1; however, version 20.2.4 is available.\n",
      "You should consider upgrading via the '/Users/vsulzer/Documents/Energy_storage/PyBaMM/.tox/dev/bin/python -m pip install --upgrade pip' command.\u001b[0m\n",
      "Note: you may need to restart the kernel to use updated packages.\n"
     ]
    }
   ],
   "source": [
    "%pip install pybamm -q    # install PyBaMM if it is not installed\n",
    "import pybamm\n",
    "import matplotlib.pyplot as plt\n",
    "import numpy as np"
   ]
  },
  {
   "cell_type": "markdown",
   "metadata": {},
   "source": [
    "## Choosing a solver"
   ]
  },
  {
   "cell_type": "markdown",
   "metadata": {},
   "source": [
    "Since it is very easy to switch which solver is used for the model, we recommend you try different solvers for your particular use case. In general, the `CasadiSolver` is the fastest.\n",
    "\n",
    "Once you have found a good solver, you can further improve performance by trying out different values for the `method`, `rtol`, and `atol` arguments. Further options are sometimes available, but are solver specific. See [solver API docs](https://pybamm.readthedocs.io/en/latest/source/solvers/index.html) for details."
   ]
  },
  {
   "cell_type": "markdown",
   "metadata": {},
   "source": [
    "## Choosing and optimizing CasadiSolver settings"
   ]
  },
  {
   "cell_type": "markdown",
   "metadata": {},
   "source": [
    "### Fast mode vs safe mode"
   ]
  },
  {
   "cell_type": "markdown",
   "metadata": {},
   "source": [
    "The `CasadiSolver` comes with a `mode` argument which can be set to \"fast\" or \"safe\" (the third option, \"safe without grid\", is experimental and should not be used for now).\n",
    "The \"fast\" mode is faster but ignores any \"events\" (such as a voltage cut-off point), while the \"safe\" mode is slower but does stop at events (with manually implemented \"step-and-check\" under the hood). Therefore, \"fast\" mode should be used whenever events are not expected to be hit (for example, when simulating a drive cycle or a constant-current discharge where the time interval is such that the simulation will finish before reaching the voltage cut-off). Conversely, \"safe\" mode should be used whenever events are important: in particular, when using the `Experiment` class."
   ]
  },
  {
   "cell_type": "markdown",
   "metadata": {},
   "source": [
    "To demonstrate the difference between safe mode and fast mode, consider the following example"
   ]
  },
  {
   "cell_type": "code",
   "execution_count": 2,
   "metadata": {},
   "outputs": [],
   "source": [
    "# Set up model\n",
    "model = pybamm.lithium_ion.DFN()\n",
    "param = model.default_parameter_values\n",
    "cap = param[\"Cell capacity [A.h]\"]\n",
    "param[\"Current function [A]\"] = cap * pybamm.InputParameter(\"Crate\")\n",
    "sim = pybamm.Simulation(model, parameter_values=param)\n",
    "\n",
    "# Set up solvers. Reduce max_num_steps for the fast solver, for faster errors\n",
    "fast_solver = pybamm.CasadiSolver(mode=\"fast\", extra_options_setup={\"max_num_steps\": 1000})\n",
    "safe_solver = pybamm.CasadiSolver(mode=\"safe\")"
   ]
  },
  {
   "cell_type": "markdown",
   "metadata": {},
   "source": [
    "Both solvers can solve the model up to 3700 s, but the fast solver ignores the voltage cut-off around 3.1 V"
   ]
  },
  {
   "cell_type": "code",
   "execution_count": 3,
   "metadata": {},
   "outputs": [
    {
     "name": "stdout",
     "output_type": "stream",
     "text": [
      "Safe: 478.735 ms\n",
      "Fast: 126.935 ms\n"
     ]
    },
    {
     "data": {
      "image/png": "[encoded data removed]",
      "text/plain": [
       "<Figure size 432x288 with 1 Axes>"
      ]
     },
     "metadata": {
      "needs_background": "light"
     },
     "output_type": "display_data"
    }
   ],
   "source": [
    "safe_sol = sim.solve([0,3700], solver=safe_solver, inputs={\"Crate\": 1})\n",
    "fast_sol = sim.solve([0,3700], solver=fast_solver, inputs={\"Crate\": 1})\n",
    "\n",
    "timer = pybamm.Timer()\n",
    "print(\"Safe:\", timer.format(safe_sol.solve_time))\n",
    "print(\"Fast:\", timer.format(fast_sol.solve_time))\n",
    "\n",
    "cutoff = param[\"Lower voltage cut-off [V]\"]\n",
    "plt.plot(fast_sol[\"Time [h]\"].data, fast_sol[\"Terminal voltage [V]\"].data, \"b-\", label=\"Fast\")\n",
    "plt.plot(safe_sol[\"Time [h]\"].data, safe_sol[\"Terminal voltage [V]\"].data, \"r-\", label=\"Safe\")\n",
    "plt.plot(fast_sol[\"Time [h]\"].data, cutoff * np.ones_like(fast_sol[\"Time [h]\"].data), \"k--\", label=\"Voltage cut-off\")\n",
    "plt.legend();"
   ]
  },
  {
   "cell_type": "markdown",
   "metadata": {},
   "source": [
    "If we increase the integration interval, the safe solver still stops at the same point, but the fast solver fails"
   ]
  },
  {
   "cell_type": "code",
   "execution_count": 4,
   "metadata": {},
   "outputs": [
    {
     "name": "stdout",
     "output_type": "stream",
     "text": [
      "Safe: 514.168 ms\n",
      "Solving fast mode, error occured: .../casadi/interfaces/sundials/idas_interface.cpp:591: IDASolve returned \"IDA_TOO_MUCH_WORK\". Consult IDAS documentation.\n"
     ]
    },
    {
     "name": "stderr",
     "output_type": "stream",
     "text": [
      "At t = 0.179234, , mxstep steps taken before reaching tout.\n"
     ]
    },
    {
     "data": {
      "image/png": "[encoded data removed]",
      "text/plain": [
       "<Figure size 432x288 with 1 Axes>"
      ]
     },
     "metadata": {
      "needs_background": "light"
     },
     "output_type": "display_data"
    }
   ],
   "source": [
    "safe_sol = sim.solve([0,4500], solver=safe_solver, inputs={\"Crate\": 1})\n",
    "\n",
    "print(\"Safe:\", timer.format(safe_sol.solve_time))\n",
    "\n",
    "plt.plot(safe_sol[\"Time [h]\"].data, safe_sol[\"Terminal voltage [V]\"].data, \"r-\", label=\"Safe\")\n",
    "plt.plot(safe_sol[\"Time [h]\"].data, cutoff * np.ones_like(safe_sol[\"Time [h]\"].data), \"k--\", label=\"Voltage cut-off\")\n",
    "plt.legend();\n",
    "\n",
    "try:\n",
    "    sim.solve([0,4500], solver=fast_solver, inputs={\"Crate\": 1})\n",
    "except pybamm.SolverError as e:\n",
    "    print(\"Solving fast mode, error occured:\", e.args[0])"
   ]
  },
  {
   "cell_type": "markdown",
   "metadata": {},
   "source": [
    "It should be noted here that the time in the warning \"At t = 0.179234, , mxstep steps taken before reaching tout\" is dimensionless time, since this is the time that the casadi solver sees. This can be converted to dimensional time as follows:"
   ]
  },
  {
   "cell_type": "code",
   "execution_count": 5,
   "metadata": {},
   "outputs": [
    {
     "name": "stdout",
     "output_type": "stream",
     "text": [
      "Errored at 4050.4391486585105 seconds\n"
     ]
    }
   ],
   "source": [
    "print(f\"Errored at {0.179234 * param.evaluate(model.timescale)} seconds\")"
   ]
  },
  {
   "cell_type": "markdown",
   "metadata": {},
   "source": [
    "We can solve with fast mode up to this time to understand why the model is failing"
   ]
  },
  {
   "cell_type": "code",
   "execution_count": 6,
   "metadata": {},
   "outputs": [
    {
     "data": {
      "application/vnd.jupyter.widget-view+json": {
       "model_id": "178f5a54760d4e1b877c8de57998f4c5",
       "version_major": 2,
       "version_minor": 0
      },
      "text/plain": [
       "interactive(children=(FloatSlider(value=0.0, description='t', max=4050.0, step=40.5), Output()), _dom_classes=…"
      ]
     },
     "metadata": {},
     "output_type": "display_data"
    }
   ],
   "source": [
    "fast_sol = sim.solve([0,4050], solver=fast_solver, inputs={\"Crate\": 1})\n",
    "fast_sol.plot([\n",
    "    \"Minimum negative particle surface concentration\",\n",
    "    \"Electrolyte concentration [mol.m-3]\",\n",
    "    \"Maximum positive particle surface concentration\",\n",
    "    \"Terminal voltage [V]\",\n",
    "], time_unit=\"seconds\", figsize=(9,9));"
   ]
  },
  {
   "cell_type": "markdown",
   "metadata": {},
   "source": [
    "In this case, we can see that the reason the solver is failing is that the concentration at the surface of the particles in the positive electrode hit their maximum (dimensionless) value of 1. Since the exchange current density has a term `sqrt(1-c_s_surf)`, the square root of a negative number is complex, `c_s_surf` going above 1 will cause the solver to fail."
   ]
  },
  {
   "cell_type": "markdown",
   "metadata": {},
   "source": [
    "As a final note, there are some cases where the \"safe\" mode prints some warnings. This is linked to how the solver looks for events (sometimes stepping too far), and can be safely ignored if the solution looks sensible."
   ]
  },
  {
   "cell_type": "code",
   "execution_count": 7,
   "metadata": {},
   "outputs": [
    {
     "name": "stderr",
     "output_type": "stream",
     "text": [
      "psetup failed: .../casadi/interfaces/sundials/idas_interface.cpp:849: Calculating Jacobian failed\n",
      "psetup failed: .../casadi/interfaces/sundials/idas_interface.cpp:849: Calculating Jacobian failed\n",
      "psetup failed: .../casadi/interfaces/sundials/idas_interface.cpp:849: Calculating Jacobian failed\n",
      "psetup failed: .../casadi/interfaces/sundials/idas_interface.cpp:849: Calculating Jacobian failed\n",
      "psetup failed: .../casadi/interfaces/sundials/idas_interface.cpp:849: Calculating Jacobian failed\n",
      "psetup failed: .../casadi/interfaces/sundials/idas_interface.cpp:849: Calculating Jacobian failed\n",
      "psetup failed: .../casadi/interfaces/sundials/idas_interface.cpp:849: Calculating Jacobian failed\n",
      "psetup failed: .../casadi/interfaces/sundials/idas_interface.cpp:849: Calculating Jacobian failed\n",
      "psetup failed: .../casadi/interfaces/sundials/idas_interface.cpp:849: Calculating Jacobian failed\n",
      "psetup failed: .../casadi/interfaces/sundials/idas_interface.cpp:849: Calculating Jacobian failed\n",
      "psetup failed: .../casadi/interfaces/sundials/idas_interface.cpp:849: Calculating Jacobian failed\n",
      "At t = 0.00674362 and h = 6.42387e-13, the corrector convergence failed repeatedly or with |h| = hmin.\n",
      "psetup failed: .../casadi/interfaces/sundials/idas_interface.cpp:849: Calculating Jacobian failed\n",
      "psetup failed: .../casadi/interfaces/sundials/idas_interface.cpp:849: Calculating Jacobian failed\n",
      "psetup failed: .../casadi/interfaces/sundials/idas_interface.cpp:849: Calculating Jacobian failed\n",
      "psetup failed: .../casadi/interfaces/sundials/idas_interface.cpp:849: Calculating Jacobian failed\n",
      "psetup failed: .../casadi/interfaces/sundials/idas_interface.cpp:849: Calculating Jacobian failed\n",
      "psetup failed: .../casadi/interfaces/sundials/idas_interface.cpp:849: Calculating Jacobian failed\n",
      "psetup failed: .../casadi/interfaces/sundials/idas_interface.cpp:849: Calculating Jacobian failed\n",
      "psetup failed: .../casadi/interfaces/sundials/idas_interface.cpp:849: Calculating Jacobian failed\n",
      "psetup failed: .../casadi/interfaces/sundials/idas_interface.cpp:849: Calculating Jacobian failed\n",
      "psetup failed: .../casadi/interfaces/sundials/idas_interface.cpp:849: Calculating Jacobian failed\n",
      "At t = 0.00674306 and h = 4.37843e-13, the corrector convergence failed repeatedly or with |h| = hmin.\n",
      "psetup failed: .../casadi/interfaces/sundials/idas_interface.cpp:849: Calculating Jacobian failed\n",
      "psetup failed: .../casadi/interfaces/sundials/idas_interface.cpp:849: Calculating Jacobian failed\n",
      "psetup failed: .../casadi/interfaces/sundials/idas_interface.cpp:849: Calculating Jacobian failed\n",
      "psetup failed: .../casadi/interfaces/sundials/idas_interface.cpp:849: Calculating Jacobian failed\n",
      "psetup failed: .../casadi/interfaces/sundials/idas_interface.cpp:849: Calculating Jacobian failed\n",
      "psetup failed: .../casadi/interfaces/sundials/idas_interface.cpp:849: Calculating Jacobian failed\n",
      "psetup failed: .../casadi/interfaces/sundials/idas_interface.cpp:849: Calculating Jacobian failed\n",
      "psetup failed: .../casadi/interfaces/sundials/idas_interface.cpp:849: Calculating Jacobian failed\n",
      "psetup failed: .../casadi/interfaces/sundials/idas_interface.cpp:849: Calculating Jacobian failed\n",
      "psetup failed: .../casadi/interfaces/sundials/idas_interface.cpp:849: Calculating Jacobian failed\n",
      "At t = 0.00674306 and h = 4.37843e-13, the corrector convergence failed repeatedly or with |h| = hmin.\n"
     ]
    },
    {
     "data": {
      "image/png": "[encoded data removed]",
      "text/plain": [
       "<Figure size 432x288 with 1 Axes>"
      ]
     },
     "metadata": {
      "needs_background": "light"
     },
     "output_type": "display_data"
    }
   ],
   "source": [
    "safe_sol_160 = sim.solve([0,160], solver=safe_solver, inputs={\"Crate\": 10})\n",
    "plt.plot(safe_sol_160[\"Time [h]\"].data, safe_sol_160[\"Terminal voltage [V]\"].data, \"r-\", label=\"Safe\")\n",
    "plt.plot(safe_sol_160[\"Time [h]\"].data, cutoff * np.ones_like(safe_sol_160[\"Time [h]\"].data), \"k--\", label=\"Voltage cut-off\")\n",
    "plt.legend();"
   ]
  },
  {
   "cell_type": "markdown",
   "metadata": {},
   "source": [
    "Reducing the time interval to [0, 150], we see that the solution is exactly the same, without the warnings"
   ]
  },
  {
   "cell_type": "code",
   "execution_count": 8,
   "metadata": {},
   "outputs": [
    {
     "data": {
      "image/png": "[encoded data removed]",
      "text/plain": [
       "<Figure size 432x288 with 1 Axes>"
      ]
     },
     "metadata": {
      "needs_background": "light"
     },
     "output_type": "display_data"
    }
   ],
   "source": [
    "safe_sol_150 = sim.solve([0,150], solver=safe_solver, inputs={\"Crate\": 10})\n",
    "plt.plot(safe_sol_150[\"Time [h]\"].data, safe_sol_150[\"Terminal voltage [V]\"].data, \"r-\", label=\"Safe [0,150]\")\n",
    "plt.plot(safe_sol_160[\"Time [h]\"].data, safe_sol_160[\"Terminal voltage [V]\"].data, \"b.\", label=\"Safe [0,160]\")\n",
    "plt.plot(safe_sol_150[\"Time [h]\"].data, cutoff * np.ones_like(safe_sol_150[\"Time [h]\"].data), \"k--\", label=\"Voltage cut-off\")\n",
    "plt.legend();"
   ]
  },
  {
   "cell_type": "code",
   "execution_count": 9,
   "metadata": {},
   "outputs": [],
   "source": [
    "safe_solver_2 = pybamm.CasadiSolver(mode=\"safe\", dt_max=30)\n",
    "safe_sol_2 = sim.solve([0,160], solver=safe_solver_2, inputs={\"Crate\": 10})"
   ]
  },
  {
   "cell_type": "markdown",
   "metadata": {},
   "source": [
    "### Choosing dt_max to speed up the safe mode"
   ]
  },
  {
   "cell_type": "markdown",
   "metadata": {},
   "source": [
    "The parameter `dt_max` controls how large the steps taken by the `CasadiSolver` with \"safe\" mode are when looking for events."
   ]
  },
  {
   "cell_type": "code",
   "execution_count": 10,
   "metadata": {},
   "outputs": [
    {
     "name": "stdout",
     "output_type": "stream",
     "text": [
      "With dt_max=10, took 2.014 s (integration time: 1.070 s)\n",
      "With dt_max=20, took 1.968 s (integration time: 1.046 s)\n",
      "With dt_max=100, took 1.068 s (integration time: 575.149 ms)\n",
      "With dt_max=1000, took 210.147 ms (integration time: 130.744 ms)\n",
      "With dt_max=3700, took 138.511 ms (integration time: 82.309 ms)\n",
      "With 'fast' mode, took 106.222 ms (integration time: 84.668 ms)\n"
     ]
    }
   ],
   "source": [
    "for dt_max in [10,20,100,1000,3700]:\n",
    "    safe_sol = sim.solve(\n",
    "        [0,3600], \n",
    "        solver=pybamm.CasadiSolver(mode=\"safe\", dt_max=dt_max),\n",
    "        inputs={\"Crate\": 1}\n",
    "    )\n",
    "    print(f\"With dt_max={dt_max}, took {timer.format(safe_sol.solve_time)} \"+\n",
    "          f\"(integration time: {timer.format(safe_sol.integration_time)})\")\n",
    "\n",
    "fast_sol = sim.solve([0,3600], solver=fast_solver, inputs={\"Crate\": 1})\n",
    "print(f\"With 'fast' mode, took {timer.format(fast_sol.solve_time)} \"+\n",
    "      f\"(integration time: {timer.format(fast_sol.integration_time)})\")"
   ]
  },
  {
   "cell_type": "markdown",
   "metadata": {},
   "source": [
    "In general, a larger value of `dt_max` gives a faster solution, since fewer integrator creations and calls are required.\n",
    "\n",
    "Below the solution time interval of 36s, the value of `dt_max` does not affect the solve time, since steps must be at least 36s large.\n",
    "The discrepancy between the solve time and integration time is due to the extra operations recorded by \"solve time\", such as creating the integrator. The \"fast\" solver does not need to do this (it reuses the first one it had already created), so the solve time is much closer to the integration time."
   ]
  },
  {
   "cell_type": "markdown",
   "metadata": {},
   "source": [
    "The example above was a case where no events are triggered, so the largest `dt_max` works well. If we step over events, then it is possible to makes `dt_max` too large, so that the solver will attempt (and fail) to take large steps past the event, iteratively reducing the step size until it works. For example:"
   ]
  },
  {
   "cell_type": "code",
   "execution_count": 11,
   "metadata": {},
   "outputs": [
    {
     "name": "stdout",
     "output_type": "stream",
     "text": [
      "With dt_max=10, took 1.706 s (integration time: 924.682 ms)\n",
      "With dt_max=20, took 1.636 s (integration time: 878.195 ms)\n",
      "With dt_max=100, took 908.828 ms (integration time: 486.413 ms)\n",
      "With dt_max=1000, took 227.665 ms (integration time: 116.490 ms)\n"
     ]
    },
    {
     "name": "stderr",
     "output_type": "stream",
     "text": [
      "At t = 0.179234, , mxstep steps taken before reaching tout.\n",
      "At t = 0.179234, , mxstep steps taken before reaching tout.\n"
     ]
    },
    {
     "name": "stdout",
     "output_type": "stream",
     "text": [
      "With dt_max=3600, took 4.185 s (integration time: 104.263 ms)\n"
     ]
    },
    {
     "name": "stderr",
     "output_type": "stream",
     "text": [
      "At t = 0.179234, , mxstep steps taken before reaching tout.\n"
     ]
    }
   ],
   "source": [
    "for dt_max in [10,20,100,1000,3600]:\n",
    "    # Reduce max_num_steps to fail faster\n",
    "    safe_sol = sim.solve(\n",
    "        [0,4500], \n",
    "        solver=pybamm.CasadiSolver(mode=\"safe\", dt_max=dt_max, extra_options_setup={\"max_num_steps\": 1000}),\n",
    "        inputs={\"Crate\": 1}\n",
    "    )\n",
    "    print(f\"With dt_max={dt_max}, took {timer.format(safe_sol.solve_time)} \"+\n",
    "          f\"(integration time: {timer.format(safe_sol.integration_time)})\")"
   ]
  },
  {
   "cell_type": "markdown",
   "metadata": {},
   "source": [
    "The integration time with `dt_max=3600` remains the fastest, but the solve time is the slowest due to all the failed steps."
   ]
  },
  {
   "cell_type": "markdown",
   "metadata": {},
   "source": [
    "### Choosing the period for faster experiments"
   ]
  },
  {
   "cell_type": "markdown",
   "metadata": {},
   "source": [
    "The \"period\" argument of the experiments also affects how long the simulations take, for a similar reason to `dt_max`. Therefore, this argument can be manually tuned to speed up how long an experiment takes to solve."
   ]
  },
  {
   "cell_type": "markdown",
   "metadata": {},
   "source": [
    "We start with one cycle of CCCV"
   ]
  },
  {
   "cell_type": "code",
   "execution_count": 12,
   "metadata": {},
   "outputs": [
    {
     "name": "stdout",
     "output_type": "stream",
     "text": [
      "Took  5.662 s\n"
     ]
    }
   ],
   "source": [
    "experiment = pybamm.Experiment(\n",
    "    [\n",
    "        \"Discharge at C/10 for 10 hours or until 3.3 V\",\n",
    "        \"Rest for 1 hour\",\n",
    "        \"Charge at 1 A until 4.1 V\",\n",
    "        \"Hold at 4.1 V until 50 mA\",\n",
    "        \"Rest for 1 hour\",\n",
    "    ]\n",
    ")\n",
    "solver = pybamm.CasadiSolver(mode=\"safe\", extra_options_setup={\"max_num_steps\": 1000})\n",
    "sim = pybamm.Simulation(model, experiment=experiment, solver=solver)\n",
    "sol = sim.solve()\n",
    "print(\"Took \", timer.format(sol.solve_time))"
   ]
  },
  {
   "cell_type": "markdown",
   "metadata": {},
   "source": [
    "This gives a nice, smooth voltage curve"
   ]
  },
  {
   "cell_type": "code",
   "execution_count": 13,
   "metadata": {},
   "outputs": [
    {
     "data": {
      "image/png": "[encoded data removed]",
      "text/plain": [
       "<Figure size 432x288 with 1 Axes>"
      ]
     },
     "metadata": {
      "needs_background": "light"
     },
     "output_type": "display_data"
    }
   ],
   "source": [
    "plt.plot(sol[\"Time [s]\"].data, sol[\"Terminal voltage [V]\"].data);"
   ]
  },
  {
   "cell_type": "markdown",
   "metadata": {},
   "source": [
    "We can speed up the experiment by increasing the period, but tradeoff is that the resolution of the solution becomes worse"
   ]
  },
  {
   "cell_type": "code",
   "execution_count": 14,
   "metadata": {},
   "outputs": [
    {
     "name": "stdout",
     "output_type": "stream",
     "text": [
      "Took  1.851 s\n"
     ]
    },
    {
     "data": {
      "image/png": "[encoded data removed]",
      "text/plain": [
       "<Figure size 432x288 with 1 Axes>"
      ]
     },
     "metadata": {
      "needs_background": "light"
     },
     "output_type": "display_data"
    }
   ],
   "source": [
    "experiment = pybamm.Experiment(\n",
    "    [\n",
    "        \"Discharge at C/10 for 10 hours or until 3.3 V\",\n",
    "        \"Rest for 1 hour\",\n",
    "        \"Charge at 1 A until 4.1 V\",\n",
    "        \"Hold at 4.1 V until 50 mA\",\n",
    "        \"Rest for 1 hour\",\n",
    "    ],\n",
    "    period=\"10 minutes\",\n",
    ")\n",
    "sim = pybamm.Simulation(model, experiment=experiment, solver=solver)\n",
    "sol = sim.solve()\n",
    "print(\"Took \", timer.format(sol.solve_time))\n",
    "plt.plot(sol[\"Time [s]\"].data, sol[\"Terminal voltage [V]\"].data);"
   ]
  },
  {
   "cell_type": "markdown",
   "metadata": {},
   "source": [
    "If we increase the period too much, the experiment becomes slower as the solver takes more failing steps"
   ]
  },
  {
   "cell_type": "code",
   "execution_count": 15,
   "metadata": {},
   "outputs": [
    {
     "name": "stderr",
     "output_type": "stream",
     "text": [
      "At t = 1.88948, , mxstep steps taken before reaching tout.\n",
      "At t = 1.88948, , mxstep steps taken before reaching tout.\n",
      "At t = 1.88948, , mxstep steps taken before reaching tout.\n"
     ]
    },
    {
     "name": "stdout",
     "output_type": "stream",
     "text": [
      "Took  2.113 s\n"
     ]
    },
    {
     "data": {
      "image/png": "[encoded data removed]",
      "text/plain": [
       "<Figure size 432x288 with 1 Axes>"
      ]
     },
     "metadata": {
      "needs_background": "light"
     },
     "output_type": "display_data"
    }
   ],
   "source": [
    "experiment = pybamm.Experiment(\n",
    "    [\n",
    "        \"Discharge at C/10 for 10 hours or until 3.3 V\",\n",
    "        \"Rest for 1 hour\",\n",
    "        \"Charge at 1 A until 4.1 V\",\n",
    "        \"Hold at 4.1 V until 50 mA\",\n",
    "        \"Rest for 1 hour\",\n",
    "    ],\n",
    "    period=\"30 minutes\",\n",
    ")\n",
    "sim = pybamm.Simulation(model, experiment=experiment, solver=solver)\n",
    "sol = sim.solve()\n",
    "print(\"Took \", timer.format(sol.solve_time))\n",
    "plt.plot(sol[\"Time [s]\"].data, sol[\"Terminal voltage [V]\"].data);"
   ]
  },
  {
   "cell_type": "markdown",
   "metadata": {},
   "source": [
    "We can control the period of individual parts of the experiment to get the fastest solution (again, at the cost of resolution)"
   ]
  },
  {
   "cell_type": "code",
   "execution_count": 16,
   "metadata": {},
   "outputs": [
    {
     "name": "stdout",
     "output_type": "stream",
     "text": [
      "Took  596.157 ms\n"
     ]
    },
    {
     "data": {
      "image/png": "[encoded data removed]",
      "text/plain": [
       "<Figure size 432x288 with 1 Axes>"
      ]
     },
     "metadata": {
      "needs_background": "light"
     },
     "output_type": "display_data"
    }
   ],
   "source": [
    "experiment = pybamm.Experiment(\n",
    "    [\n",
    "        \"Discharge at C/10 for 10 hours or until 3.3 V (5 hour period)\",\n",
    "        \"Rest for 1 hour (30 minute period)\",\n",
    "        \"Charge at 1 C until 4.1 V (10 minute period)\",\n",
    "        \"Hold at 4.1 V until 50 mA (10 minute period)\",\n",
    "        \"Rest for 1 hour (30 minute period)\",\n",
    "    ],\n",
    ")\n",
    "solver = pybamm.CasadiSolver(mode=\"safe\", extra_options_setup={\"max_num_steps\": 1000})\n",
    "sim = pybamm.Simulation(model, experiment=experiment, solver=solver)\n",
    "sol = sim.solve()\n",
    "print(\"Took \", timer.format(sol.solve_time))\n",
    "plt.plot(sol[\"Time [s]\"].data, sol[\"Terminal voltage [V]\"].data);"
   ]
  },
  {
   "cell_type": "markdown",
   "metadata": {},
   "source": [
    "As you can see, this kind of optimization requires a lot of manual tuning. We are working on ways to make the experiment class more efficient in general."
   ]
  },
  {
   "cell_type": "markdown",
   "metadata": {},
   "source": [
    "### Changing the time interval"
   ]
  },
  {
   "cell_type": "markdown",
   "metadata": {},
   "source": [
    "Finally, in some cases, changing the time interval (either the step size or the final time) may affect whether or not the casadi solver can solve the system. \n",
    "Therefore, if the casadi solver is failing, it may be worth changing the time interval (usually, reducing step size or final time) to see if that allows the solver to solve the model.\n",
    "Unfortunately, we have not yet been able to isolate a minimum working example to demonstrate this effect."
   ]
  },
  {
   "cell_type": "markdown",
   "metadata": {},
   "source": [
    "## Handling instabilities"
   ]
  },
  {
   "cell_type": "markdown",
   "metadata": {},
   "source": [
    "If the solver is taking a lot of steps, possibly failing with a `max_steps` error, and the error persists with different solvers and options, this suggests a problem with the model itself. This can be due to a few things:\n",
    "\n",
    "- A singularity in the model (such as division by zero). Solve up to the time where the model fails, and plot some variables to see if they are going to infinity. You can then narrow down the source of the problem.\n",
    "- High model stiffness. The first thing to do to tackle this is to non-dimensionalize your model. If you really don't want to do this, or you do it and the problem persists, plot different variables to identify which variables or parameters may be causing problems. To reduce stiffness, all (dimensionless) parameter values should be as close to 1 as possible.\n",
    "- Non-differentiable functions (see [below](#Smooth-approximations-to-non-differentiable-functions))\n",
    "\n",
    "If none of these fixes work, we are interested in finding out why - please get in touch!"
   ]
  },
  {
   "cell_type": "markdown",
   "metadata": {},
   "source": [
    "### Smooth approximations to non-differentiable functions"
   ]
  },
  {
   "cell_type": "markdown",
   "metadata": {},
   "source": [
    "Some functions, such as `minimum`, `maximum`, `heaviside`, and `abs`, are discontinuous and/or non-differentiable (their derivative is discontinuous). Adaptive solvers can deal with this discontinuity, but will take many more steps close to the discontinuity in order to resolve it. Therefore, using smooth approximations instead can reduce the number of steps taken by the solver, and hence the integration time. See [this post](https://discourse.julialang.org/t/handling-instability-when-solving-ode-problems/9019/5) for more details.\n",
    "\n",
    "Here is an example using the `maximum` function. The function `maximum(x,1)` is continuous but non-differentiable at `x=1`, where its derivative jumps from 0 to 1. However, we can approximate it using the [`softplus` function](https://en.wikipedia.org/wiki/Rectifier_(neural_networks)#Softplus), which is smooth everywhere and is sometimes used in neural networks as a smooth approximation to the RELU activation function. The `softplus` function is given by\n",
    "$$\n",
    "s(x,y;k) = \\frac{\\log(\\exp(kx)+\\exp(ky))}{k},\n",
    "$$\n",
    "where `k` is a strictly positive smoothing (or sharpness) parameter. The larger the value of `k`, the better the approximation but the stiffer the term (exp blows up quickly!). Usually, a value of `k=10` is a good middle ground.\n",
    "\n",
    "In PyBaMM, you can either call the `softplus` function directly, or change `pybamm.settings.max_smoothing` to automatically replace all your calls to `pybamm.maximum` with `softplus`."
   ]
  },
  {
   "cell_type": "code",
   "execution_count": 17,
   "metadata": {},
   "outputs": [
    {
     "name": "stdout",
     "output_type": "stream",
     "text": [
      "Exact maximum: maximum(x, y)\n",
      "Softplus (k=10): log(exp(10.0 * x) + exp(10.0 * y)) / 10.0\n",
      "Softplus (k=20): log(exp(20.0 * x) + exp(20.0 * y)) / 20.0\n",
      "Softplus (k=30): log(exp(30.0 * x) + exp(30.0 * y)) / 30.0\n",
      "Exact maximum: maximum(x, y)\n"
     ]
    }
   ],
   "source": [
    "x = pybamm.Variable(\"x\")\n",
    "y = pybamm.Variable(\"y\")\n",
    "\n",
    "# Normal maximum\n",
    "print(\"Exact maximum:\", pybamm.maximum(x,y))\n",
    "\n",
    "# Softplus\n",
    "print(\"Softplus (k=10):\", pybamm.softplus(x,y,10))\n",
    "\n",
    "# Changing the setting to call softplus automatically\n",
    "pybamm.settings.max_smoothing = 20\n",
    "print(\"Softplus (k=20):\", pybamm.maximum(x,y))\n",
    "\n",
    "# All smoothing parameters can be changed at once\n",
    "pybamm.settings.set_smoothing_parameters(30)\n",
    "print(\"Softplus (k=30):\", pybamm.maximum(x,y))\n",
    "\n",
    "# Change back\n",
    "pybamm.settings.set_smoothing_parameters(\"exact\")\n",
    "print(\"Exact maximum:\", pybamm.maximum(x,y))"
   ]
  },
  {
   "cell_type": "markdown",
   "metadata": {},
   "source": [
    "Note that if both sides are constant then pybamm will use the exact value even if the setting is set to smoothing"
   ]
  },
  {
   "cell_type": "code",
   "execution_count": 18,
   "metadata": {},
   "outputs": [
    {
     "name": "stdout",
     "output_type": "stream",
     "text": [
      "Exact: 1.0\n",
      "Softplus: 1.0341598589863317\n"
     ]
    }
   ],
   "source": [
    "a = pybamm.InputParameter(\"a\")\n",
    "pybamm.settings.max_smoothing = 20\n",
    "# Both inputs are constant so uses exact maximum\n",
    "print(\"Exact:\", pybamm.maximum(0.999,1).evaluate())\n",
    "# One input is not constant (InputParameter) so uses softplus\n",
    "print(\"Softplus:\", pybamm.maximum(a,1).evaluate(inputs={\"a\": 0.999}))\n",
    "pybamm.settings.set_smoothing_parameters(\"exact\")"
   ]
  },
  {
   "cell_type": "markdown",
   "metadata": {},
   "source": [
    "Here is the plot of softplus with different values of `k`"
   ]
  },
  {
   "cell_type": "code",
   "execution_count": 19,
   "metadata": {},
   "outputs": [
    {
     "data": {
      "text/plain": [
       "<matplotlib.legend.Legend at 0x149e86070>"
      ]
     },
     "execution_count": 19,
     "metadata": {},
     "output_type": "execute_result"
    },
    {
     "data": {
      "image/png": "[encoded data removed]",
      "text/plain": [
       "<Figure size 720x360 with 1 Axes>"
      ]
     },
     "metadata": {
      "needs_background": "light"
     },
     "output_type": "display_data"
    }
   ],
   "source": [
    "pts = pybamm.linspace(0, 2, 100)\n",
    "\n",
    "fig, ax = plt.subplots(figsize=(10,5))\n",
    "ax.plot(pts.evaluate(), pybamm.maximum(pts,1).evaluate(), lw=2, label=\"exact\")\n",
    "ax.plot(pts.evaluate(), pybamm.softplus(pts,1,5).evaluate(), \":\", lw=2, label=\"softplus (k=5)\")\n",
    "ax.plot(pts.evaluate(), pybamm.softplus(pts,1,10).evaluate(), \":\", lw=2, label=\"softplus (k=10)\")\n",
    "ax.plot(pts.evaluate(), pybamm.softplus(pts,1,100).evaluate(), \":\", lw=2, label=\"softplus (k=100)\")\n",
    "ax.legend()"
   ]
  },
  {
   "cell_type": "markdown",
   "metadata": {},
   "source": [
    "Solving a model with the exact maximum, and smooth approximations, demonstrates a clear speed-up even for a very simple model"
   ]
  },
  {
   "cell_type": "code",
   "execution_count": 20,
   "metadata": {},
   "outputs": [
    {
     "name": "stdout",
     "output_type": "stream",
     "text": [
      "Exact: 289.321 us\n",
      "Smooth, k=5: 259.474 us\n",
      "Smooth, k=10: 231.891 us\n",
      "Smooth, k=100: 276.171 us\n"
     ]
    },
    {
     "data": {
      "application/vnd.jupyter.widget-view+json": {
       "model_id": "2e4330f6019e46d39f03933e14be6d61",
       "version_major": 2,
       "version_minor": 0
      },
      "text/plain": [
       "interactive(children=(FloatSlider(value=0.0, description='t', max=2.0, step=0.02), Output()), _dom_classes=('w…"
      ]
     },
     "metadata": {},
     "output_type": "display_data"
    }
   ],
   "source": [
    "model_exact = pybamm.BaseModel()\n",
    "model_exact.rhs = {x: pybamm.maximum(x, 1)}\n",
    "model_exact.initial_conditions = {x: 0.5}\n",
    "model_exact.variables = {\"x\": x, \"max(x,1)\": pybamm.maximum(x, 1)}\n",
    "\n",
    "model_smooth = pybamm.BaseModel()\n",
    "k = pybamm.InputParameter(\"k\")\n",
    "model_smooth.rhs = {x: pybamm.softplus(x, 1, k)}\n",
    "model_smooth.initial_conditions = {x: 0.5}\n",
    "model_smooth.variables = {\"x\": x, \"max(x,1)\": pybamm.softplus(x, 1, k)}\n",
    "\n",
    "solver = pybamm.CasadiSolver(mode=\"fast\")\n",
    "\n",
    "# Exact solution\n",
    "timer = pybamm.Timer()\n",
    "time = 0\n",
    "for _ in range(100):\n",
    "    exact_sol = solver.solve(model_exact, [0, 2])\n",
    "    # Report integration time, which is the time spent actually doing the integration\n",
    "    time += exact_sol.integration_time\n",
    "print(\"Exact:\", timer.format(time/100))\n",
    "sols = [exact_sol]\n",
    "\n",
    "ks = [5, 10, 100]\n",
    "for k in ks:\n",
    "    time = 0\n",
    "    for _ in range(100):\n",
    "        sol = solver.solve(model_smooth, [0, 2], inputs={\"k\": k})\n",
    "        time += sol.integration_time\n",
    "    print(f\"Smooth, k={k}:\", timer.format(time/100))\n",
    "    sols.append(sol)\n",
    "\n",
    "pybamm.dynamic_plot(sols, [\"x\", \"max(x,1)\"], labels=[\"exact\"] + [f\"smooth (k={k})\" for k in ks]);"
   ]
  },
  {
   "cell_type": "markdown",
   "metadata": {},
   "source": [
    "#### Other smooth approximations"
   ]
  },
  {
   "cell_type": "markdown",
   "metadata": {},
   "source": [
    "Here are the other smooth approximations for the other non-smooth functions:"
   ]
  },
  {
   "cell_type": "code",
   "execution_count": 21,
   "metadata": {},
   "outputs": [
    {
     "name": "stdout",
     "output_type": "stream",
     "text": [
      "Smooth minimum (softminus):\t log(exp(-10.0 * x) + exp(-10.0 * y)) / -10.0\n",
      "Smooth heaviside (sigmoid):\t (1.0 + tanh(10.0 * (y - x))) / 2.0\n",
      "Smooth absolute value: \t\t x * (exp(10.0 * x) - exp(-10.0 * x)) / (exp(10.0 * x) + exp(-10.0 * x))\n"
     ]
    }
   ],
   "source": [
    "pybamm.settings.set_smoothing_parameters(10)\n",
    "print(\"Smooth minimum (softminus):\\t {!s}\".format(pybamm.minimum(x,y)))\n",
    "print(\"Smooth heaviside (sigmoid):\\t {!s}\".format(x < y))\n",
    "print(\"Smooth absolute value: \\t\\t {!s}\".format(abs(x)))\n",
    "pybamm.settings.set_smoothing_parameters(\"exact\")"
   ]
  },
  {
   "cell_type": "code",
   "execution_count": null,
   "metadata": {},
   "outputs": [],
   "source": []
  }
 ],
 "metadata": {
  "kernelspec": {
   "display_name": "Python 3",
   "language": "python",
   "name": "python3"
  },
  "language_info": {
   "codemirror_mode": {
    "name": "ipython",
    "version": 3
   },
   "file_extension": ".py",
   "mimetype": "text/x-python",
   "name": "python",
   "nbconvert_exporter": "python",
   "pygments_lexer": "ipython3",
   "version": "3.8.5"
  },
  "toc": {
   "base_numbering": 1,
   "nav_menu": {},
   "number_sections": true,
   "sideBar": true,
   "skip_h1_title": false,
   "title_cell": "Table of Contents",
   "title_sidebar": "Contents",
   "toc_cell": false,
   "toc_position": {},
   "toc_section_display": true,
   "toc_window_display": true
  }
 },
 "nbformat": 4,
 "nbformat_minor": 4
}
