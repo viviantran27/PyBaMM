{
 "cells": [
  {
   "cell_type": "markdown",
   "metadata": {},
   "source": [
    "# Tutorial 8 - Solver options\n",
    "\n",
    "In [Tutorial 7](./Tutorial%207%20-%20Model%20options.ipynb) we saw how to change the model options. In this tutorial we will show how to pass options to the solver.\n",
    "\n",
    "All models in PyBaMM have a default solver which is typically different depending on whether the model results in a system of ordinary differential equations (ODEs) or differential algebraic equations (DAEs). \n",
    "\n",
    "One of the most common options you will want to change is the solver tolerances. By default all tolerances are set to $10^{-6}$. However, depending on your simulation you may find you want to tighten the tolerances to obtain a more accurate solution, or you may want to loosen the tolerances to reduce the solve time. It is good practice to conduct a tolerance study, where you simulate the same problem with a tighter tolerances and compare the results. We do not show how to do this here, but we give an example of a mesh resolution study in the [next tutorial](./Tutorial%209%20-%20Changing%20the%20mesh.ipynb), which is conducted in a similar way."
   ]
  },
  {
   "cell_type": "code",
   "execution_count": 32,
   "metadata": {},
   "outputs": [
    {
     "name": "stdout",
     "output_type": "stream",
     "text": [
      "Note: you may need to restart the kernel to use updated packages.\n"
     ]
    }
   ],
   "source": [
    "%pip install pybamm -q    # install PyBaMM if it is not installed\n",
    "import pybamm"
   ]
  },
  {
   "cell_type": "markdown",
   "metadata": {},
   "source": [
    "Here we will change the absolute and relative tolerances, as well as the \"mode\" of the `CasadiSolver`. For a list of all the solver options  please consult the [documentation](https://pybamm.readthedocs.io/en/latest/source/solvers/index.html).\n",
    "\n",
    "The `CasadiSolver` can operate in a number of modes, including \"safe\" (default) and \"fast\". Safe mode performs step-and-check integration and supports event handling (e.g. you can integrate until you hit a certain voltage), and is the recommended for simulations of a full charge or discharge. Fast mode performs direct integration, ignoring events, and is recommended when simulating a drive cycle or other simulation where no events should be triggered.\n",
    "\n",
    "We'll solve the DFN with all the default options in both \"safe\" and \"fast\" mode and compare the solutions. For both simulations we'll use $10^{-3}$ for both the absolute and relative tolerance. For demonstration purposes we'll change the cut-off voltage to 3.6V so we can observe the different behaviour of the two solver modes."
   ]
  },
  {
   "cell_type": "code",
   "execution_count": 38,
   "metadata": {},
   "outputs": [
    {
     "name": "stdout",
     "output_type": "stream",
     "text": [
      "Safe mode solve time: 0.5297854829987045\n",
      "Fast mode solve time: 0.09761962499942456\n"
     ]
    },
    {
     "data": {
      "application/vnd.jupyter.widget-view+json": {
       "model_id": "2a5906d642a14d759e93c9057eecf1b9",
       "version_major": 2,
       "version_minor": 0
      },
      "text/plain": [
       "interactive(children=(FloatSlider(value=0.0, description='t', max=1.0, step=0.01), Output()), _dom_classes=('w…"
      ]
     },
     "metadata": {},
     "output_type": "display_data"
    },
    {
     "data": {
      "text/plain": [
       "<pybamm.plotting.quick_plot.QuickPlot at 0x7f8dc64984a8>"
      ]
     },
     "execution_count": 38,
     "metadata": {},
     "output_type": "execute_result"
    }
   ],
   "source": [
    "# load model and parameters\n",
    "model = pybamm.lithium_ion.DFN()\n",
    "param = model.default_parameter_values\n",
    "param[\"Lower voltage cut-off [V]\"] = 3.6\n",
    "\n",
    "# load solvers\n",
    "safe_solver = pybamm.CasadiSolver(atol=1e-3, rtol=1e-3, mode=\"safe\")\n",
    "fast_solver = pybamm.CasadiSolver(atol=1e-3, rtol=1e-3, mode=\"fast\")\n",
    "\n",
    "# create simulations\n",
    "safe_sim = pybamm.Simulation(model, parameter_values=param, solver=safe_solver)\n",
    "fast_sim = pybamm.Simulation(model, parameter_values=param, solver=fast_solver)\n",
    "\n",
    "# solve\n",
    "safe_sim.solve([0, 3600])\n",
    "print(\"Safe mode solve time: {}\".format(safe_sim.solution.solve_time))\n",
    "fast_sim.solve([0, 3600])\n",
    "print(\"Fast mode solve time: {}\".format(fast_sim.solution.solve_time))\n",
    "\n",
    "# plot solutions\n",
    "pybamm.dynamic_plot([safe_sim, fast_sim])"
   ]
  },
  {
   "cell_type": "markdown",
   "metadata": {},
   "source": [
    "We see that both solvers give the same solution up to the time at which the cut-off voltage is reached. At this point the solver using \"safe\" mode stops, but the solver using \"fast\" mode carries on integrating until the final time. As its name suggests, \"fast\" mode integrates more quickly that \"safe\" mode, but is unsuitable if your simulation required events to be handled.\n",
    "\n",
    "Usually the default solver options provide a good combination of speed and accuracy, but we encourage you to investigate different solvers and options to find the best combination for your problem.\n",
    "\n",
    "In the [next tutorial](./Tutorial%209%20-%20Changing%20the%20mesh.ipynb) we show how to change the mesh."
   ]
  },
  {
   "cell_type": "code",
   "execution_count": null,
   "metadata": {},
   "outputs": [],
   "source": []
  }
 ],
 "metadata": {
  "kernelspec": {
   "display_name": "Python 3",
   "language": "python",
   "name": "python3"
  },
  "language_info": {
   "codemirror_mode": {
    "name": "ipython",
    "version": 3
   },
   "file_extension": ".py",
   "mimetype": "text/x-python",
   "name": "python",
   "nbconvert_exporter": "python",
   "pygments_lexer": "ipython3",
   "version": "3.6.9"
  }
 },
 "nbformat": 4,
 "nbformat_minor": 4
}
