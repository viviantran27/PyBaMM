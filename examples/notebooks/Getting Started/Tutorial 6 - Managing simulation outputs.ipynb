{
 "cells": [
  {
   "cell_type": "markdown",
   "metadata": {},
   "source": [
    "# Tutorial 6 - Managing simulation outputs"
   ]
  },
  {
   "cell_type": "markdown",
   "metadata": {},
   "source": [
    "In the previous tutorials we have interacted with the outputs of the simulation via the default dynamic plot. However, usually we need to access the output data to manipulate it or transfer to another software which is the topic of this notebook.\n",
    "\n",
    "We start by building and solving our model as shown in previous notebooks:"
   ]
  },
  {
   "cell_type": "code",
   "execution_count": 1,
   "metadata": {},
   "outputs": [
    {
     "output_type": "stream",
     "name": "stdout",
     "text": [
      "\u001b[33mWARNING: You are using pip version 20.2.1; however, version 20.2.4 is available.\n",
      "You should consider upgrading via the '/Users/vsulzer/Documents/Energy_storage/PyBaMM/.tox/dev/bin/python -m pip install --upgrade pip' command.\u001b[0m\n",
      "Note: you may need to restart the kernel to use updated packages.\n"
     ]
    },
    {
     "output_type": "execute_result",
     "data": {
      "text/plain": [
       "<pybamm.solvers.solution.Solution at 0x1467c6820>"
      ]
     },
     "metadata": {},
     "execution_count": 1
    }
   ],
   "source": [
    "%pip install pybamm -q    # install PyBaMM if it is not installed\n",
    "import pybamm\n",
    "model = pybamm.lithium_ion.SPMe()\n",
    "sim = pybamm.Simulation(model)\n",
    "sim.solve([0, 3600])"
   ]
  },
  {
   "cell_type": "markdown",
   "metadata": {},
   "source": [
    "## Accessing solution variables"
   ]
  },
  {
   "cell_type": "markdown",
   "metadata": {},
   "source": [
    "We can now access the solved variables directly to visualise or create our own plots. We first extract the solution object:"
   ]
  },
  {
   "cell_type": "code",
   "execution_count": 2,
   "metadata": {},
   "outputs": [],
   "source": [
    "solution = sim.solution"
   ]
  },
  {
   "cell_type": "markdown",
   "metadata": {},
   "source": [
    "and now we can create a post-processed variable (for a list of all the available variables see [Tutorial 3](./Tutorial%203%20-%20Basic%20plotting.ipynb))"
   ]
  },
  {
   "cell_type": "code",
   "execution_count": 3,
   "metadata": {},
   "outputs": [],
   "source": [
    "t = solution[\"Time [s]\"]\n",
    "V = solution[\"Terminal voltage [V]\"]"
   ]
  },
  {
   "cell_type": "markdown",
   "metadata": {},
   "source": [
    "One option is to visualise the data set returned by the solver directly"
   ]
  },
  {
   "cell_type": "code",
   "execution_count": 4,
   "metadata": {},
   "outputs": [
    {
     "output_type": "execute_result",
     "data": {
      "text/plain": [
       "array([3.77047806, 3.75305163, 3.74567013, 3.74038819, 3.73581198,\n",
       "       3.73153388, 3.72742394, 3.72343938, 3.71956644, 3.71580196,\n",
       "       3.71214617, 3.70860034, 3.70516557, 3.70184247, 3.69863116,\n",
       "       3.69553115, 3.69254136, 3.6896602 , 3.68688564, 3.68421527,\n",
       "       3.68164637, 3.67917591, 3.6768006 , 3.67451688, 3.67232094,\n",
       "       3.6702087 , 3.66817572, 3.66621717, 3.66432763, 3.66250091,\n",
       "       3.66072975, 3.65900537, 3.65731692, 3.65565067, 3.65398896,\n",
       "       3.65230898, 3.65058136, 3.6487688 , 3.64682545, 3.64469796,\n",
       "       3.64232964, 3.63966968, 3.63668791, 3.63339298, 3.62984705,\n",
       "       3.62616685, 3.62250444, 3.61901236, 3.61580864, 3.61295718,\n",
       "       3.61046845, 3.60831404, 3.60644483, 3.60480596, 3.60334607,\n",
       "       3.60202167, 3.60079822, 3.5996495 , 3.59855637, 3.59750531,\n",
       "       3.59648723, 3.59549638, 3.59452954, 3.59358541, 3.59266405,\n",
       "       3.59176646, 3.59089417, 3.59004885, 3.58923192, 3.58844407,\n",
       "       3.58768477, 3.58695179, 3.58624057, 3.58554372, 3.58485045,\n",
       "       3.58414611, 3.58341187, 3.58262441, 3.58175587, 3.58077378,\n",
       "       3.57964098, 3.57831538, 3.5767492 , 3.57488745, 3.57266504,\n",
       "       3.5700019 , 3.56679523, 3.56290767, 3.5581495 , 3.55225276,\n",
       "       3.54483362, 3.53533853, 3.52296795, 3.50656968, 3.48449277,\n",
       "       3.45439366, 3.41299183, 3.35578872, 3.27680073, 3.16842637])"
      ]
     },
     "metadata": {},
     "execution_count": 4
    }
   ],
   "source": [
    "V.entries"
   ]
  },
  {
   "cell_type": "markdown",
   "metadata": {},
   "source": [
    "which correspond to the data at the times"
   ]
  },
  {
   "cell_type": "code",
   "execution_count": 5,
   "metadata": {},
   "outputs": [
    {
     "output_type": "execute_result",
     "data": {
      "text/plain": [
       "array([   0.        ,   36.36363636,   72.72727273,  109.09090909,\n",
       "        145.45454545,  181.81818182,  218.18181818,  254.54545455,\n",
       "        290.90909091,  327.27272727,  363.63636364,  400.        ,\n",
       "        436.36363636,  472.72727273,  509.09090909,  545.45454545,\n",
       "        581.81818182,  618.18181818,  654.54545455,  690.90909091,\n",
       "        727.27272727,  763.63636364,  800.        ,  836.36363636,\n",
       "        872.72727273,  909.09090909,  945.45454545,  981.81818182,\n",
       "       1018.18181818, 1054.54545455, 1090.90909091, 1127.27272727,\n",
       "       1163.63636364, 1200.        , 1236.36363636, 1272.72727273,\n",
       "       1309.09090909, 1345.45454545, 1381.81818182, 1418.18181818,\n",
       "       1454.54545455, 1490.90909091, 1527.27272727, 1563.63636364,\n",
       "       1600.        , 1636.36363636, 1672.72727273, 1709.09090909,\n",
       "       1745.45454545, 1781.81818182, 1818.18181818, 1854.54545455,\n",
       "       1890.90909091, 1927.27272727, 1963.63636364, 2000.        ,\n",
       "       2036.36363636, 2072.72727273, 2109.09090909, 2145.45454545,\n",
       "       2181.81818182, 2218.18181818, 2254.54545455, 2290.90909091,\n",
       "       2327.27272727, 2363.63636364, 2400.        , 2436.36363636,\n",
       "       2472.72727273, 2509.09090909, 2545.45454545, 2581.81818182,\n",
       "       2618.18181818, 2654.54545455, 2690.90909091, 2727.27272727,\n",
       "       2763.63636364, 2800.        , 2836.36363636, 2872.72727273,\n",
       "       2909.09090909, 2945.45454545, 2981.81818182, 3018.18181818,\n",
       "       3054.54545455, 3090.90909091, 3127.27272727, 3163.63636364,\n",
       "       3200.        , 3236.36363636, 3272.72727273, 3309.09090909,\n",
       "       3345.45454545, 3381.81818182, 3418.18181818, 3454.54545455,\n",
       "       3490.90909091, 3527.27272727, 3563.63636364, 3600.        ])"
      ]
     },
     "metadata": {},
     "execution_count": 5
    }
   ],
   "source": [
    "t.entries"
   ]
  },
  {
   "cell_type": "markdown",
   "metadata": {},
   "source": [
    "In addition, post-processed variables can be called at any time (by interpolation)"
   ]
  },
  {
   "cell_type": "code",
   "execution_count": 6,
   "metadata": {},
   "outputs": [
    {
     "output_type": "execute_result",
     "data": {
      "text/plain": [
       "array([3.72947891, 3.70860034, 3.67810702, 3.65400558])"
      ]
     },
     "metadata": {},
     "execution_count": 6
    }
   ],
   "source": [
    "V([200, 400, 780, 1236])  # times in seconds"
   ]
  },
  {
   "cell_type": "markdown",
   "metadata": {},
   "source": [
    "## Saving the simulation and output data"
   ]
  },
  {
   "cell_type": "markdown",
   "metadata": {},
   "source": [
    "In some cases simulations might take a long time to run so it is advisable to save in your computer so it can be analysed later without re-running the simulation. You can save the whole simulation doing:"
   ]
  },
  {
   "cell_type": "code",
   "execution_count": 7,
   "metadata": {},
   "outputs": [],
   "source": [
    "sim.save(\"SPMe.pkl\")"
   ]
  },
  {
   "cell_type": "markdown",
   "metadata": {},
   "source": [
    "If you now check the root directory of your notebooks you will notice that a new file called `\"SPMe.pkl\"` has appeared. We can load the stored simulation doing"
   ]
  },
  {
   "cell_type": "code",
   "execution_count": 8,
   "metadata": {},
   "outputs": [],
   "source": [
    "sim2 = pybamm.load(\"SPMe.pkl\")"
   ]
  },
  {
   "cell_type": "markdown",
   "metadata": {},
   "source": [
    "which allows the same manipulation as the original simulation would allow"
   ]
  },
  {
   "cell_type": "code",
   "execution_count": 9,
   "metadata": {},
   "outputs": [
    {
     "output_type": "display_data",
     "data": {
      "text/plain": "interactive(children=(FloatSlider(value=0.0, description='t', max=1.0, step=0.01), Output()), _dom_classes=('w…",
      "application/vnd.jupyter.widget-view+json": {
       "version_major": 2,
       "version_minor": 0,
       "model_id": "0b4ebac3fdd947218f9444b2b381cf04"
      }
     },
     "metadata": {}
    }
   ],
   "source": [
    "sim2.plot()"
   ]
  },
  {
   "cell_type": "markdown",
   "metadata": {},
   "source": [
    "Alternatively, we can just save the solution of the simulation in a similar way"
   ]
  },
  {
   "cell_type": "code",
   "execution_count": 10,
   "metadata": {},
   "outputs": [],
   "source": [
    "sol = sim.solution\n",
    "sol.save(\"SPMe_sol.pkl\")"
   ]
  },
  {
   "cell_type": "markdown",
   "metadata": {},
   "source": [
    "and load it in a similar way too"
   ]
  },
  {
   "cell_type": "code",
   "execution_count": 11,
   "metadata": {},
   "outputs": [
    {
     "output_type": "display_data",
     "data": {
      "text/plain": "interactive(children=(FloatSlider(value=0.0, description='t', max=1.0, step=0.01), Output()), _dom_classes=('w…",
      "application/vnd.jupyter.widget-view+json": {
       "version_major": 2,
       "version_minor": 0,
       "model_id": "f4a1b65b2bf945099197135c5598084b"
      }
     },
     "metadata": {}
    },
    {
     "output_type": "execute_result",
     "data": {
      "text/plain": [
       "<pybamm.plotting.quick_plot.QuickPlot at 0x14be13b80>"
      ]
     },
     "metadata": {},
     "execution_count": 11
    }
   ],
   "source": [
    "sol2 = pybamm.load(\"SPMe_sol.pkl\")\n",
    "pybamm.dynamic_plot(sol2)"
   ]
  },
  {
   "cell_type": "markdown",
   "metadata": {},
   "source": [
    "Another option is to just save the data for some variables"
   ]
  },
  {
   "cell_type": "code",
   "execution_count": 12,
   "metadata": {},
   "outputs": [],
   "source": [
    "sol.save_data(\"sol_data.pkl\", [\"Current [A]\", \"Terminal voltage [V]\"])"
   ]
  },
  {
   "cell_type": "markdown",
   "metadata": {},
   "source": [
    "or save in csv or mat format"
   ]
  },
  {
   "cell_type": "code",
   "execution_count": 13,
   "metadata": {},
   "outputs": [],
   "source": [
    "sol.save_data(\"sol_data.csv\", [\"Current [A]\", \"Terminal voltage [V]\"], to_format=\"csv\")\n",
    "# matlab needs names without spaces\n",
    "sol.save_data(\"sol_data.mat\", [\"Current [A]\", \"Terminal voltage [V]\"], to_format=\"matlab\",\n",
    "              short_names={\"Current [A]\": \"I\", \"Terminal voltage [V]\": \"V\"})"
   ]
  },
  {
   "cell_type": "markdown",
   "metadata": {},
   "source": [
    "In this notebook we have shown how to extract and store the outputs of PyBaMM's simulations. Next, in [Tutorial 7](./Tutorial%207%20-%20Model%20options.ipynb) we will show how to change the model options."
   ]
  },
  {
   "cell_type": "markdown",
   "metadata": {},
   "source": [
    "Before finishing we will remove the data files we saved so that we leave the directory as we found it"
   ]
  },
  {
   "cell_type": "code",
   "execution_count": 14,
   "metadata": {},
   "outputs": [],
   "source": [
    "import os\n",
    "os.remove(\"SPMe.pkl\")\n",
    "os.remove(\"SPMe_sol.pkl\")\n",
    "os.remove(\"sol_data.pkl\")\n",
    "os.remove(\"sol_data.csv\")\n",
    "os.remove(\"sol_data.mat\")"
   ]
  },
  {
   "cell_type": "code",
   "execution_count": null,
   "metadata": {},
   "outputs": [],
   "source": []
  }
 ],
 "metadata": {
  "kernelspec": {
   "display_name": "Python 3",
   "language": "python",
   "name": "python3"
  },
  "language_info": {
   "codemirror_mode": {
    "name": "ipython",
    "version": 3
   },
   "file_extension": ".py",
   "mimetype": "text/x-python",
   "name": "python",
   "nbconvert_exporter": "python",
   "pygments_lexer": "ipython3",
   "version": "3.8.5-final"
  }
 },
 "nbformat": 4,
 "nbformat_minor": 2
}