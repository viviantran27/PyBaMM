{
 "cells": [
  {
   "cell_type": "markdown",
   "metadata": {
    "deletable": true,
    "editable": true
   },
   "source": [
    "# Creating a Simple Model\n",
    "Before adding a new model, please read the [contribution guidelines](https://github.com/pybamm-team/PyBaMM/blob/master/CONTRIBUTING.md)"
   ]
  },
  {
   "cell_type": "markdown",
   "metadata": {
    "deletable": true,
    "editable": true
   },
   "source": [
    "In this notebook, we will run through the steps involved in creating a new model within pybamm. We will then solve and plot the outputs of the model. We have choosen to implement a very simple model of SEI growth. We first give a brief derivation of the model and discuss how to nondimensionalise the model so that we can show the full process of model conception to solution within a single notebook.  "
   ]
  },
  {
   "cell_type": "markdown",
   "metadata": {
    "deletable": true,
    "editable": true
   },
   "source": [
    "Note: if you run the entire notebook and then try to evaluate the ealier cells, you will likely recieve an error. This is becuase the state of objects is mutated as it is passed through various processing. In this case, we recommend that you restart the Kernal and then evaluate cells in turn through the notebook. "
   ]
  },
  {
   "cell_type": "markdown",
   "metadata": {
    "deletable": true,
    "editable": true
   },
   "source": [
    "## A Simple Model of Solid Electrolyte Interphase (SEI) Growth"
   ]
  },
  {
   "cell_type": "markdown",
   "metadata": {
    "deletable": true,
    "editable": true
   },
   "source": [
    "The SEI is a porous layer that forms on the surfaces of negative electrode particles from the products of electrochemical reactions which consume lithium and electrolyte solvents. In the first few cycles of use, a lithium-ion battery loses a large amount of capacity; this is generally attributed to lithium being consumed to produce SEI. However, after a few cycles, the rate of capacity loss slows at a rate often (but not always) reported to scale with the square root of time. SEI growth is therefore often considered to be limited in some way by a diffusion process."
   ]
  },
  {
   "cell_type": "markdown",
   "metadata": {
    "deletable": true,
    "editable": true
   },
   "source": [
    "### Dimensional Model"
   ]
  },
  {
   "cell_type": "markdown",
   "metadata": {
    "deletable": true,
    "editable": true
   },
   "source": [
    "We shall first state our model in dimensional form but to enter the model in pybamm, we strongly recommend converting models into dimensionless form. The main reason for this is that dimensionless models are typically better conditioned than dimensional models and so several digits of accuracy can be gained. To distinguish between the dimensional and dimensionless models, we shall always employ a superscript $*$ on dimensional variables. "
   ]
  },
  {
   "cell_type": "markdown",
   "metadata": {
    "deletable": true,
    "editable": true
   },
   "source": [
    "![SEI.png](attachment:SEI.png)"
   ]
  },
  {
   "cell_type": "markdown",
   "metadata": {
    "deletable": true,
    "editable": true
   },
   "source": [
    "In our simple SEI model, we consider a one-dimensional SEI which extends from the surface of a planar negative electrode at $x^*=0$ until $x^*=L^*$, where $L^*$ is the thickness of the SEI. Since the SEI is porous, there is some electrolyte within the region $x^*\\in[0, L^*]$ and therefore some concentration of solvent, $c^*$. Within the porous SEI, the solvent is transported via a diffusion process according to:\n",
    "$$\n",
    "\\frac{\\partial c^*}{\\partial t^*} = - \\nabla^* \\cdot N^*, \\quad N^* = - D^*(c^*) \\nabla^* c^* \\label{dim:eqn:solvent-diffusion}\\tag{1}\\\\\n",
    "$$\n",
    "where $t^*$ is the time, $N^*$ is the solvent flux, and $D^*(c^*)$ is the effective solvent diffusivity (a function of the solvent concentration).\n",
    "\n",
    "On the electrode-SEI surface ($x^*=0$) the solvent is consumed by the SEI growth reaction, $R^*$. We asssume that diffusion of solvent in the bulk electrolyte ($x^*>L^*$) is fast so that on the SEI-electrolyte surface ($x^*=L^*$) the concentration of solvent is fixed at the value $c^*_{\\infty}$. Therefore, the boundary conditions are\n",
    "$$\n",
    "    N^*|_{x^*=0} = - R^*, \\quad c^*|_{x^*=L^*} = c^*_{\\infty},\n",
    "$$\n",
    "We also assume that the concentration of solvent within the SEI is initially uniform and equal to the bulk electrolyte solvent concentration, so that the initial condition is\n",
    "$$\n",
    "   c^*|_{t^*=0} = c^*_{\\infty}\n",
    "$$\n",
    "\n",
    "Since the SEI is growing, we require an additional equation for the SEI thickness. The thickness of the SEI grows at a rate proportial to the SEI growth reaction $R^*$, where the constant of proportionality is the partial molar volume of the reaction products, $\\hat{V}^*$. We also assume that the SEI is initially of thickness $L^*_0$. Therefore, we have\n",
    "$$\n",
    "    \\frac{d L^*}{d t^*} = \\hat{V}^* R^*, \\quad L^*|_{t^*=0} = L^*_0\n",
    "$$\n",
    "\n",
    "Finally, we assume for the sake of simplicity that the SEI growth reaction is irreverisble and that the potential difference across the SEI is constant. The reaction is also assumed to be proportional to the concentration of solvent at the electrode-SEI surface ($x^*=0$). Therefore, the reaction flux is given by\n",
    "$$\n",
    " R^* = k^* c^*|_{x^*=0}\n",
    "$$\n",
    "where $k^*$ is the reaction rate constant (which is in general dependent upon the potential differnce across the SEI)."
   ]
  },
  {
   "cell_type": "markdown",
   "metadata": {
    "deletable": true,
    "editable": true
   },
   "source": [
    "### Non-dimensionalisation"
   ]
  },
  {
   "cell_type": "markdown",
   "metadata": {
    "deletable": true,
    "editable": true
   },
   "source": [
    "To convert the model into dimensionless form, we scale the dimensional variables and dimensional functions. For this model, we choose to scale $x^*$ by the current SEI thickness, the current SEI thickness by the initial SEI thickness, solvent concentration with the bulk electrolyte solvent concentration, and the solvent diffusion with the solvent diffusion in the electrolyte. We then use these scalings to infer the scaling for the solvent flux. Therefore, we have\n",
    "$$\n",
    "x^* = L^* x, \\quad L^*= L^*_0 L \\quad c^* = c^*_{\\infty} c, \\quad D^*(c^*) = D^*(c^*_{\\infty}) D(c), \\quad  \n",
    "N^* = \\frac{D^*(c^*_{\\infty}) c^*_{\\infty}}{L^*_0}N.\n",
    "$$\n",
    "We also choose to scale time by the solvent diffusion timescale so that \n",
    "$$\n",
    "t^* = \\frac{(L^*_0)^2}{D^*(c^*_{\\infty})}t.\n",
    "$$\n",
    "Finally, we choose to scale the reaction flux in the same way as the solvent flux so that we have\n",
    "$$\n",
    "    R^* = \\frac{D^*(c^*_{\\infty}) c^*_{\\infty}}{L^*_0} R.\n",
    "$$\n",
    "\n",
    "We note that there are multiple possible choices of scalings. Whilst they will all give the ultimately give the same answer, some choices are better than others depending on the situation under study."
   ]
  },
  {
   "cell_type": "markdown",
   "metadata": {
    "deletable": true,
    "editable": true
   },
   "source": [
    "### Dimensionless Model"
   ]
  },
  {
   "cell_type": "markdown",
   "metadata": {
    "deletable": true,
    "editable": true
   },
   "source": [
    "After substituting in the scalings from the previous section, we obtain the dimensionless form of the model given by:"
   ]
  },
  {
   "cell_type": "markdown",
   "metadata": {
    "deletable": true,
    "editable": true
   },
   "source": [
    "Solvent diffusion through SEI:\n",
    "\\begin{align}\n",
    "\\frac{\\partial c}{\\partial t} = \\frac{\\hat{V} R}{L} x \\cdot \\nabla c - \\frac{1}{L}\\nabla \\cdot N, \\quad N = - \\frac{1}{L}D(c) \\nabla c, \\label{eqn:solvent-diffusion}\\tag{1}\\\\\n",
    "N|_{x=0} = - R, \\quad c|_{x=1} = 1  \\label{bc:solvent-diffusion}\\tag{2} \\quad\n",
    "c|_{t=0} = 1; \n",
    "\\end{align}\n",
    "\n",
    "Growth reaction:\n",
    "$$\n",
    "R = k c|_{x=0}; \\label{eqn:reaction}\\tag{3}\n",
    "$$\n",
    "\n",
    "SEI thickness:\n",
    "$$\n",
    "\\frac{d L}{d t} = \\hat{V} R, \\quad L|_{t=0} = 1; \\label{eqn:SEI-thickness}\\tag{4}\n",
    "$$\n",
    "where the dimensionless parameters are given by\n",
    "$$\n",
    " k = \\frac{k^* L^*_0}{D^*(c^*_{\\infty})}, \\quad \\hat{V} = \\hat{V}^* c^*_{\\infty}, \\quad \n",
    " D(c) = \\frac{D^*(c^*)}{D^*(c^*_{\\infty})}.  \\label{parameters}\\tag{5}\n",
    "$$\n",
    "In the above, the additional advective term in the diffusion equation arises due to our choice to scale the spatial coordinate $x^*$ with the time-dependent SEI layer thickness $L^*$."
   ]
  },
  {
   "cell_type": "markdown",
   "metadata": {
    "deletable": true,
    "editable": true
   },
   "source": [
    "## Converting the Model into PyBaMM"
   ]
  },
  {
   "cell_type": "markdown",
   "metadata": {
    "deletable": true,
    "editable": true
   },
   "source": [
    "As always, we begin by importing pybamm and changing our working directory to the root of the pybamm folder."
   ]
  },
  {
   "cell_type": "code",
   "execution_count": 1,
   "metadata": {
    "collapsed": true,
    "deletable": true,
    "editable": true
   },
   "outputs": [],
   "source": [
    "import pybamm\n",
    "import numpy as np\n",
    "import os\n",
    "os.chdir(pybamm.__path__[0]+'/..')"
   ]
  },
  {
   "cell_type": "markdown",
   "metadata": {
    "deletable": true,
    "editable": true
   },
   "source": [
    "A model is defined in six steps:\n",
    "1. Initialise model\n",
    "2. Define parameters and variables\n",
    "3. State governing equations\n",
    "4. State boundary conditions\n",
    "5. State initial conditions\n",
    "6. State output variables\n",
    "\n",
    "We shall proceed through each step to enter our simple SEI growth model."
   ]
  },
  {
   "cell_type": "markdown",
   "metadata": {
    "deletable": true,
    "editable": true
   },
   "source": [
    "#### 1. Initialise model"
   ]
  },
  {
   "cell_type": "markdown",
   "metadata": {
    "deletable": true,
    "editable": true
   },
   "source": [
    "We first initialise the model using the `BaseModel` class. This sets up the required structure for our model. "
   ]
  },
  {
   "cell_type": "code",
   "execution_count": 2,
   "metadata": {
    "collapsed": true,
    "deletable": true,
    "editable": true
   },
   "outputs": [],
   "source": [
    "model = pybamm.BaseModel()"
   ]
  },
  {
   "cell_type": "markdown",
   "metadata": {
    "deletable": true,
    "editable": true
   },
   "source": [
    "#### 2. Define parameters and variables"
   ]
  },
  {
   "cell_type": "markdown",
   "metadata": {
    "deletable": true,
    "editable": true
   },
   "source": [
    "In our SEI model, we have two dimensionless parameters: $k$ and $\\hat{V}$ aswell as one dimensionless function $D(c)$ which are given in terms of the dimensional parameters, see (5). In pybamm, inputs are dimensional so we first state all the dimensional parameters and then define the dimensionless parameters in terms of them. To define the dimensional parameters, we use the `Parameter` to create parameter symbols. Parameters which are functions are defined using  `FunctionParameter` and should be defined within a python function as shown. "
   ]
  },
  {
   "cell_type": "code",
   "execution_count": 3,
   "metadata": {
    "collapsed": true,
    "deletable": true,
    "editable": true
   },
   "outputs": [],
   "source": [
    "# dimensional parameters\n",
    "k_dim = pybamm.Parameter(\"Reaction rate constant\")\n",
    "L_0_dim = pybamm.Parameter(\"Initial thickness\")\n",
    "V_hat_dim = pybamm.Parameter(\"Partial molar volume\")\n",
    "c_inf_dim = pybamm.Parameter(\"Bulk electrolyte solvent concentration\")\n",
    "\n",
    "def D_dim(cc):\n",
    "    return pybamm.FunctionParameter(\"Diffusivity\", cc)\n",
    "\n",
    "# dimensionless parameters\n",
    "k = k_dim * L_0_dim / D_dim(c_inf_dim)\n",
    "V_hat = V_hat_dim * c_inf_dim\n",
    "\n",
    "def D(cc):\n",
    "    c_dim = c_inf_dim * cc\n",
    "    return D_dim(c_dim) / D_dim(c_inf_dim)"
   ]
  },
  {
   "cell_type": "markdown",
   "metadata": {
    "deletable": true,
    "editable": true
   },
   "source": [
    "We now define the dimensionless variables in our model. Since we solve for these, we do not need to write them in terms of the dimensional variables. We simply use `SpatialVariable` and `Variable` to create the required symbols: "
   ]
  },
  {
   "cell_type": "code",
   "execution_count": 4,
   "metadata": {
    "collapsed": true,
    "deletable": true,
    "editable": true
   },
   "outputs": [],
   "source": [
    "x = pybamm.SpatialVariable(\"x\", domain=\"SEI layer\", coord_sys=\"cartesian\")\n",
    "c = pybamm.Variable(\"Solvent concentration\", domain=\"SEI layer\")\n",
    "L = pybamm.Variable(\"SEI thickness\")"
   ]
  },
  {
   "cell_type": "markdown",
   "metadata": {
    "deletable": true,
    "editable": true
   },
   "source": [
    "#### 3. State governing equations"
   ]
  },
  {
   "cell_type": "markdown",
   "metadata": {
    "deletable": true,
    "editable": true
   },
   "source": [
    "We can now use the symbols we have created for our parameters and variables to write out our governing equations. Note that before we use the reaction flux and solvent flux, we must derive new symbols for them from the defined parameter and variable symbols. Each governing equation must also be stated in the form `d/dt = rhs` since pybamm only stores the right hand side (rhs) and assumes that the left hand side is the time derivative. The govenering equations are then simply"
   ]
  },
  {
   "cell_type": "code",
   "execution_count": 5,
   "metadata": {
    "collapsed": true,
    "deletable": true,
    "editable": true
   },
   "outputs": [],
   "source": [
    "# SEI reaction flux\n",
    "R = k * pybamm.BoundaryValue(c, \"left\")\n",
    "\n",
    "# solvent concentration equation\n",
    "N = - (1 / L) * D(c) * pybamm.grad(c)\n",
    "dcdt = (V_hat * R) * pybamm.inner(x / L, pybamm.grad(c)) - (1 / L) * pybamm.div(N)\n",
    "\n",
    "# SEI thickness equation\n",
    "dLdt = V_hat * R"
   ]
  },
  {
   "cell_type": "markdown",
   "metadata": {
    "deletable": true,
    "editable": true
   },
   "source": [
    "Once we have stated the equations, we can add them to the `model.rhs` dictionary. This is a dictionary which stores the right had sides of the governing equations. Each key in the dictionary corresponds to the variable which the equation is being solved for."
   ]
  },
  {
   "cell_type": "code",
   "execution_count": 6,
   "metadata": {
    "collapsed": true,
    "deletable": true,
    "editable": true
   },
   "outputs": [],
   "source": [
    "model.rhs = {c: dcdt, L: dLdt}"
   ]
  },
  {
   "cell_type": "markdown",
   "metadata": {
    "deletable": true,
    "editable": true
   },
   "source": [
    "#### 4. State boundary conditions"
   ]
  },
  {
   "cell_type": "markdown",
   "metadata": {
    "deletable": true,
    "editable": true
   },
   "source": [
    "We only have boundary conditions on the solvent concentration equation. We must state where a condition is Neumann (on the gradient) or Dirichlet (on the variable itself). \n",
    "\n",
    "The boundary condition on the electrode-SEI (x=0) boundary is: \n",
    "$$\n",
    "    N|_{x=0} = - R, \\quad  N|_{x=0} = - \\frac{1}{L} D(c|_{x=0} )\\nabla c|_{x=0}\n",
    "$$\n",
    "which is a Neumann condition. To implement this boundary condition in pybamm, we must first rearrange the equation so that the gradient of the concentration, $\\nabla c|_{x=0}$, is the subject. Therefore we have\n",
    "$$\n",
    "    \\nabla c|_{x=0} = \\frac{L R}{D(c|_{x=0} )}\n",
    "$$\n",
    "which we enter into pybamm as   "
   ]
  },
  {
   "cell_type": "code",
   "execution_count": 7,
   "metadata": {
    "collapsed": true,
    "deletable": true,
    "editable": true
   },
   "outputs": [],
   "source": [
    "# electrode-SEI boundary condition (x=0) (lbc = left boundary condition)\n",
    "D_left = pybamm.BoundaryValue(D(c), \"left\") # pybamm requires BoundaryValue(D(c)) and not D(BoundaryValue(c)) \n",
    "grad_c_left = L * R / D_left"
   ]
  },
  {
   "cell_type": "markdown",
   "metadata": {
    "deletable": true,
    "editable": true
   },
   "source": [
    "On the SEI-electrolyte boundary (x=1), we have the boundary condition\n",
    "$$\n",
    "    c|_{x=1} = 1\n",
    "$$"
   ]
  },
  {
   "cell_type": "markdown",
   "metadata": {
    "deletable": true,
    "editable": true
   },
   "source": [
    "which is a Dirichlet condition and is just entered as"
   ]
  },
  {
   "cell_type": "code",
   "execution_count": 8,
   "metadata": {
    "collapsed": true,
    "deletable": true,
    "editable": true
   },
   "outputs": [],
   "source": [
    "c_right = pybamm.Scalar(1)"
   ]
  },
  {
   "cell_type": "markdown",
   "metadata": {
    "deletable": true,
    "editable": true
   },
   "source": [
    "We now load these boundary conditions into the `model.boundary_conditions` dictionary in the following way, being careful to state the type of boundary condition: "
   ]
  },
  {
   "cell_type": "code",
   "execution_count": 9,
   "metadata": {
    "collapsed": true,
    "deletable": true,
    "editable": true
   },
   "outputs": [],
   "source": [
    "model.boundary_conditions = {c: {\"left\": (grad_c_left, \"Neumann\"), \"right\": (c_right, \"Dirichlet\")}}"
   ]
  },
  {
   "cell_type": "markdown",
   "metadata": {
    "deletable": true,
    "editable": true
   },
   "source": [
    "#### 5. State initial conditions"
   ]
  },
  {
   "cell_type": "markdown",
   "metadata": {
    "deletable": true,
    "editable": true
   },
   "source": [
    "There are two initial conditions in our model:\n",
    "$$\n",
    "    c|_{t=0} = 1, \\quad L|_{t=0} = 1\n",
    "$$"
   ]
  },
  {
   "cell_type": "markdown",
   "metadata": {
    "deletable": true,
    "editable": true
   },
   "source": [
    "which are simply written in pybamm as"
   ]
  },
  {
   "cell_type": "code",
   "execution_count": 10,
   "metadata": {
    "collapsed": true,
    "deletable": true,
    "editable": true
   },
   "outputs": [],
   "source": [
    "c_init = pybamm.Scalar(1)\n",
    "L_init = pybamm.Scalar(1)"
   ]
  },
  {
   "cell_type": "markdown",
   "metadata": {
    "deletable": true,
    "editable": true
   },
   "source": [
    "and then included into the `model.initial_conditions` dictionary:"
   ]
  },
  {
   "cell_type": "code",
   "execution_count": 11,
   "metadata": {
    "collapsed": true,
    "deletable": true,
    "editable": true
   },
   "outputs": [],
   "source": [
    "model.initial_conditions = {c: c_init, L: L_init}"
   ]
  },
  {
   "cell_type": "markdown",
   "metadata": {
    "deletable": true,
    "editable": true
   },
   "source": [
    "#### 6. State output variables"
   ]
  },
  {
   "cell_type": "markdown",
   "metadata": {
    "deletable": true,
    "editable": true
   },
   "source": [
    "We already have everything required in model for the model to be used and solved but we have not yet stated what we actually want to output from the model. PyBaMM allows users to output any combination of symbols as an output variable therefore allowing the user the flexibility to output important quanities without further tedious postprocessing steps. \n",
    "\n",
    "Some useful outputs for this simple model are:\n",
    "- the SEI thickness\n",
    "- the SEI growth rate\n",
    "- the solvent concentration\n",
    "\n",
    "These are added to the model by simply entering"
   ]
  },
  {
   "cell_type": "code",
   "execution_count": 12,
   "metadata": {
    "collapsed": true,
    "deletable": true,
    "editable": true
   },
   "outputs": [],
   "source": [
    "model.variables = {\"SEI thickness\": L, \"SEI growth rate\": dLdt, \"Solvent concentration\": c}"
   ]
  },
  {
   "cell_type": "markdown",
   "metadata": {
    "deletable": true,
    "editable": true
   },
   "source": [
    "We can also output the dimensional versions of these variables by multiplying by the scalings in the Non-dimensionalisation section. By convention, we recommend include in the units in the output variables name so that they do not overwrite the dimensionless output variables. We also `.update` the disctionary so that we add to the previous output variables."
   ]
  },
  {
   "cell_type": "code",
   "execution_count": 13,
   "metadata": {
    "collapsed": true,
    "deletable": true,
    "editable": true
   },
   "outputs": [],
   "source": [
    "L_dim = L_0_dim * L\n",
    "dLdt_dim = (D_dim(c_inf_dim) / L_0_dim ) * dLdt\n",
    "c_dim = c_inf_dim * c\n",
    "\n",
    "model.variables.update({\n",
    "                        \"SEI thickness [m]\": L_dim, \n",
    "                        \"SEI growth rate [m/s]\": dLdt_dim, \n",
    "                        \"Solvent concentration [mols/m^3]\": c_dim\n",
    "                        }\n",
    "                      )\n"
   ]
  },
  {
   "cell_type": "markdown",
   "metadata": {
    "deletable": true,
    "editable": true
   },
   "source": [
    "And thats it, the model is fully defined and ready to be used. If you plan on reusing the model several times, you can additionally set model defaults which include: a default geometry to run the model on, a default set of parameter values, a default solver, etc."
   ]
  },
  {
   "cell_type": "markdown",
   "metadata": {
    "deletable": true,
    "editable": true
   },
   "source": [
    "## Using the Model"
   ]
  },
  {
   "cell_type": "markdown",
   "metadata": {
    "deletable": true,
    "editable": true
   },
   "source": [
    "The model will now behave in the same way as any of the inbuilt PyBaMM models. However, to demonstrate that the model works we display the steps involved in solving the model but we will not go into details within this notebook."
   ]
  },
  {
   "cell_type": "code",
   "execution_count": 14,
   "metadata": {
    "collapsed": true,
    "deletable": true,
    "editable": true
   },
   "outputs": [],
   "source": [
    "# define geometry\n",
    "geometry = pybamm.Geometry()\n",
    "geometry.add_domain(\"SEI layer\", {\"primary\": {x: {\"min\": pybamm.Scalar(0), \"max\": pybamm.Scalar(1)}}})\n",
    "\n",
    "def Diffusivity(cc):\n",
    "    return cc * 10**(-5)\n",
    "\n",
    "# parameter values (not physically based, for example only!)\n",
    "param = pybamm.ParameterValues(\n",
    "    {\n",
    "        \"Reaction rate constant\": 20,\n",
    "        \"Initial thickness\": 1e-6,\n",
    "        \"Partial molar volume\": 10,\n",
    "        \"Bulk electrolyte solvent concentration\": 1,\n",
    "        \"Diffusivity\": Diffusivity,\n",
    "    }\n",
    ")\n",
    "\n",
    "# process model and geometry\n",
    "param.process_model(model)\n",
    "param.process_geometry(geometry)\n",
    "\n",
    "# mesh and discretise\n",
    "submesh_types = {\"SEI layer\": pybamm.Uniform1DSubMesh}\n",
    "var_pts = {x: 100}\n",
    "mesh = pybamm.Mesh(geometry, submesh_types, var_pts)\n",
    "                   \n",
    "spatial_methods = {\"SEI layer\": pybamm.FiniteVolume()}\n",
    "disc = pybamm.Discretisation(mesh, spatial_methods)\n",
    "disc.process_model(model)\n",
    "\n",
    "# solve\n",
    "solver = pybamm.ScipySolver()\n",
    "t = np.linspace(0, 100, 100)\n",
    "solution = solver.solve(model, t)\n",
    "\n",
    "# Extract output variables\n",
    "L_out = solution[\"SEI thickness\"]\n",
    "c_out = solution[\"Solvent concentration\"]\n",
    "x = np.linspace(0, 1, 100)"
   ]
  },
  {
   "cell_type": "markdown",
   "metadata": {
    "deletable": true,
    "editable": true
   },
   "source": [
    "Using these outputs, we can now plot the SEI thickness as a function of time and also the solvent concentration profile within the SEI. We use a slider to plot the concentration profile at different times."
   ]
  },
  {
   "cell_type": "code",
   "execution_count": 15,
   "metadata": {
    "collapsed": false,
    "deletable": true,
    "editable": true
   },
   "outputs": [
    {
     "data": {
      "application/vnd.jupyter.widget-view+json": {
       "model_id": "0f7f4e8850354ea3a745351e85077a75",
       "version_major": 2,
       "version_minor": 0
      },
      "text/plain": [
       "interactive(children=(FloatSlider(value=0.0, description='t'), Output()), _dom_classes=('widget-interact',))"
      ]
     },
     "metadata": {},
     "output_type": "display_data"
    }
   ],
   "source": [
    "import matplotlib.pyplot as plt\n",
    "def plot(t):\n",
    "    f, (ax1, ax2) = plt.subplots(1, 2 ,figsize=(10,5))\n",
    "    ax1.plot(solution.t, L_out(solution.t))\n",
    "    ax1.plot([t], [L_out(t)], 'r.')\n",
    "    plot_c, = ax2.plot(x * L_out(t), c_out(t, x))\n",
    "    ax1.set_ylabel('SEI thickness')\n",
    "    ax1.set_xlabel('t')\n",
    "    ax2.set_ylabel('Solvent concentration')\n",
    "    ax2.set_xlabel('x')\n",
    "    ax2.set_ylim(0, 1.1)\n",
    "    ax2.set_xlim(0, x[-1]*L_out(solution.t[-1]))\n",
    "    plt.show()\n",
    "    \n",
    "import ipywidgets as widgets\n",
    "widgets.interact(plot, t=widgets.FloatSlider(min=0,max=solution.t[-1],step=0.1,value=0));"
   ]
  },
  {
   "cell_type": "markdown",
   "metadata": {
    "deletable": true,
    "editable": true
   },
   "source": [
    "## Formally adding your model"
   ]
  },
  {
   "cell_type": "markdown",
   "metadata": {
    "deletable": true,
    "editable": true
   },
   "source": [
    "The purpose of this notebook has been to go through the steps involved in getting a simple model working within PyBaMM. However, if you plan on reusing your model and want greater flexibility then we recommend that you create a new class for your model. We have set out instructions on how to do this in the \"Adding a Model\" tutorial in the documentation. "
   ]
  }
 ],
 "metadata": {
  "kernelspec": {
   "display_name": "Python 3",
   "language": "python",
   "name": "python3"
  },
  "language_info": {
   "codemirror_mode": {
    "name": "ipython",
    "version": 3
   },
   "file_extension": ".py",
   "mimetype": "text/x-python",
   "name": "python",
   "nbconvert_exporter": "python",
   "pygments_lexer": "ipython3",
   "version": "3.5.2"
  }
 },
 "nbformat": 4,
 "nbformat_minor": 2
}
