{
 "cells": [
  {
   "cell_type": "markdown",
   "metadata": {},
   "source": [
    "# Changing the input current when solving PyBaMM models\n",
    "\n",
    "This notebook shows you how to change the input current when solving PyBaMM models. It also explains how to load in current data from a file, and how to add a user-defined current function. For more examples of different drive cycles see [here](https://github.com/pybamm-team/PyBaMM/tree/master/results/drive_cycles).\n",
    "\n",
    "### Table of Contents\n",
    "1. [Constant current](#constant)\n",
    "1. [Loading in current data](#data)\n",
    "1. [Adding your own current function](#function)"
   ]
  },
  {
   "cell_type": "markdown",
   "metadata": {},
   "source": [
    "## Constant current  <a name=\"constant\"></a>\n",
    "\n",
    "In this notebook we will use the SPM as the example model, and change the input current from the default option. If you are not familiar with running a model in PyBaMM, please see [this](./models/SPM.ipynb) notebook for more details.\n",
    "\n",
    "In PyBaMM, the current function is set using the parameter \"Current function [A]\". Below we load the SPM with the default parameters, and then change the the current function to 16A."
   ]
  },
  {
   "cell_type": "code",
   "execution_count": 1,
   "metadata": {},
   "outputs": [],
   "source": [
    "import pybamm\n",
    "import numpy as np\n",
    "import os\n",
    "os.chdir(pybamm.__path__[0]+'/..')\n",
    "\n",
    "# create the model\n",
    "model = pybamm.lithium_ion.SPM()\n",
    "\n",
    "# set the default model geometry\n",
    "geometry = model.default_geometry\n",
    "\n",
    "# set the default model parameters\n",
    "param = model.default_parameter_values\n",
    "\n",
    "# change the current function\n",
    "param[\"Current function [A]\"] = 16"
   ]
  },
  {
   "cell_type": "markdown",
   "metadata": {},
   "source": [
    "We can now solve the model in the ususal way"
   ]
  },
  {
   "cell_type": "code",
   "execution_count": 2,
   "metadata": {
    "scrolled": true
   },
   "outputs": [
    {
     "data": {
      "application/vnd.jupyter.widget-view+json": {
       "model_id": "000da8e81b0b4e91984553ba15ba179c",
       "version_major": 2,
       "version_minor": 0
      },
      "text/plain": [
       "interactive(children=(FloatSlider(value=0.0, description='t', max=0.0036363636363636364, step=0.005), Output()…"
      ]
     },
     "metadata": {},
     "output_type": "display_data"
    }
   ],
   "source": [
    "# set the parameters for the model and the geometry\n",
    "param.process_model(model)\n",
    "param.process_geometry(geometry)\n",
    "\n",
    "# mesh the domains\n",
    "mesh = pybamm.Mesh(geometry, model.default_submesh_types, model.default_var_pts)\n",
    "\n",
    "# discretise the model equations\n",
    "disc = pybamm.Discretisation(mesh, model.default_spatial_methods)\n",
    "disc.process_model(model)\n",
    "\n",
    "# Solve the model at the given time points\n",
    "solver = model.default_solver\n",
    "n = 100\n",
    "t_eval = np.linspace(0, 0.02, n)\n",
    "solution = solver.solve(model, t_eval)\n",
    "\n",
    "# plot\n",
    "quick_plot = pybamm.QuickPlot(solution)\n",
    "\n",
    "import ipywidgets as widgets\n",
    "widgets.interact(quick_plot.plot, t=widgets.FloatSlider(min=0,max=solution.t[-1],step=0.005,value=0));"
   ]
  },
  {
   "cell_type": "markdown",
   "metadata": {},
   "source": [
    "PyBaMM can also simulate rest behaviour by setting the current function to zero:"
   ]
  },
  {
   "cell_type": "code",
   "execution_count": 3,
   "metadata": {},
   "outputs": [],
   "source": [
    "param[\"Current function [A]\"] = 0"
   ]
  },
  {
   "cell_type": "markdown",
   "metadata": {},
   "source": [
    "The model may then be updated and solved again in the usual way."
   ]
  },
  {
   "cell_type": "code",
   "execution_count": 4,
   "metadata": {},
   "outputs": [
    {
     "data": {
      "application/vnd.jupyter.widget-view+json": {
       "model_id": "cc4fd2e7c9ea4129a7acf0e519fea268",
       "version_major": 2,
       "version_minor": 0
      },
      "text/plain": [
       "interactive(children=(FloatSlider(value=0.0, description='t', max=0.02, step=0.005), Output()), _dom_classes=(…"
      ]
     },
     "metadata": {},
     "output_type": "display_data"
    }
   ],
   "source": [
    "# set the parameters for the model and the geometry\n",
    "param.update_model(model, disc)\n",
    "\n",
    "# Solve the model at the given time points\n",
    "solution = solver.solve(model, t_eval)\n",
    "\n",
    "# plot\n",
    "quick_plot = pybamm.QuickPlot(solution)\n",
    "\n",
    "import ipywidgets as widgets\n",
    "widgets.interact(quick_plot.plot, t=widgets.FloatSlider(min=0,max=solution.t[-1],step=0.005,value=0));"
   ]
  },
  {
   "cell_type": "markdown",
   "metadata": {},
   "source": [
    "## Loading in current data <a name=\"data\"></a>\n",
    "\n",
    "Data can be loaded in from a csv file by putting the file in the folder 'input/drive_cycles' and using the prefix \"[current data]\". As an example, we show how to solve the SPM using the US06 drive cycle"
   ]
  },
  {
   "cell_type": "code",
   "execution_count": 5,
   "metadata": {},
   "outputs": [
    {
     "data": {
      "application/vnd.jupyter.widget-view+json": {
       "model_id": "84f6cac9b14f43a1907322e650f3c9f8",
       "version_major": 2,
       "version_minor": 0
      },
      "text/plain": [
       "interactive(children=(FloatSlider(value=0.0, description='t', max=0.026550306076661374, step=0.001), Output())…"
      ]
     },
     "metadata": {},
     "output_type": "display_data"
    }
   ],
   "source": [
    "model = pybamm.lithium_ion.SPM()\n",
    "\n",
    "# create geometry\n",
    "geometry = model.default_geometry\n",
    "\n",
    "# load parameter values and process model and geometry\n",
    "param = model.default_parameter_values\n",
    "param[\"Current function [A]\"] = \"[current data]US06\"\n",
    "param.process_model(model)\n",
    "param.process_geometry(geometry)\n",
    "\n",
    "# set mesh\n",
    "mesh = pybamm.Mesh(geometry, model.default_submesh_types, model.default_var_pts)\n",
    "\n",
    "# discretise model\n",
    "disc = pybamm.Discretisation(mesh, model.default_spatial_methods)\n",
    "disc.process_model(model)\n",
    "\n",
    "# simulate US06 drive cycle (duration 600 seconds)\n",
    "tau = param.process_symbol(\n",
    "    pybamm.standard_parameters_lithium_ion.tau_discharge\n",
    ").evaluate(0)\n",
    "t_eval = np.linspace(0, 600 / tau, 600)\n",
    "solution = solver.solve(model, t_eval)\n",
    "\n",
    "# plot\n",
    "quick_plot = pybamm.QuickPlot(solution)\n",
    "\n",
    "import ipywidgets as widgets\n",
    "widgets.interact(quick_plot.plot, t=widgets.FloatSlider(min=0,max=solution.t[-1],step=0.001,value=0));"
   ]
  },
  {
   "cell_type": "markdown",
   "metadata": {},
   "source": [
    "Note that some solvers try to evaluate the model equations at a very large value of `t` during the first step. This may raise a warning if the time requested by the solver is outside of the range of the data provided. However, this does not affect the solve since this large timestep is rejected by the solver, and a suitable shorter initial step is taken."
   ]
  },
  {
   "cell_type": "markdown",
   "metadata": {},
   "source": [
    "## Adding your own current function <a name=\"function\"></a>\n",
    "\n",
    "A user defined current function can be passed to any model by specifying either a function or a set of data points for interpolation.\n",
    "\n",
    "For example, you may want to simulate a sinusoidal current with amplitude A and freqency omega. In order to do so you must first define the method"
   ]
  },
  {
   "cell_type": "code",
   "execution_count": 6,
   "metadata": {},
   "outputs": [],
   "source": [
    "# create user-defined function\n",
    "def my_fun(A, omega):\n",
    "    def current(t):\n",
    "        return A * pybamm.sin(2 * np.pi * omega * t)\n",
    "    \n",
    "    return current"
   ]
  },
  {
   "cell_type": "markdown",
   "metadata": {},
   "source": [
    "Note that the function returns a function which takes the input time.\n",
    "Then the model may be loaded and the \"Current function\" parameter updated to `my_fun` called with a specific value of `A` and `omega`"
   ]
  },
  {
   "cell_type": "code",
   "execution_count": 7,
   "metadata": {},
   "outputs": [],
   "source": [
    "model = pybamm.lithium_ion.SPM()\n",
    "\n",
    "# create geometry\n",
    "geometry = model.default_geometry\n",
    "\n",
    "# load default parameter values\n",
    "param = model.default_parameter_values\n",
    "\n",
    "# set user defined current function\n",
    "A = pybamm.electrical_parameters.I_typ\n",
    "omega = 0.1\n",
    "param[\"Current function [A]\"] = my_fun(A,omega)\n",
    "\n",
    "# process model and geometry\n",
    "param.process_model(model)\n",
    "param.process_geometry(geometry)"
   ]
  },
  {
   "cell_type": "markdown",
   "metadata": {},
   "source": [
    "Note that when `my_fun` is evaluated with `A` and `omega`, this creates a new function `current(t)` which can then be used in the expression tree. The model may then be solved in the usual way"
   ]
  },
  {
   "cell_type": "code",
   "execution_count": 8,
   "metadata": {},
   "outputs": [
    {
     "data": {
      "application/vnd.jupyter.widget-view+json": {
       "model_id": "09ced8a9e10b4e769a9b4cc8573b7fa2",
       "version_major": 2,
       "version_minor": 0
      },
      "text/plain": [
       "interactive(children=(FloatSlider(value=0.0, description='t', max=0.0013275153038330688, step=6.63757651916534…"
      ]
     },
     "metadata": {},
     "output_type": "display_data"
    }
   ],
   "source": [
    "# set mesh\n",
    "mesh = pybamm.Mesh(geometry, model.default_submesh_types, model.default_var_pts)\n",
    "\n",
    "# discretise model\n",
    "disc = pybamm.Discretisation(mesh, model.default_spatial_methods)\n",
    "disc.process_model(model)\n",
    "\n",
    "# Example: simulate for 30 seconds\n",
    "simulation_time = 30  # end time in seconds\n",
    "tau = param.process_symbol(pybamm.standard_parameters_lithium_ion.tau_discharge).evaluate(0)\n",
    "npts = int(50 * simulation_time * omega)  # need enough timesteps to resolve output\n",
    "t_eval = np.linspace(0, simulation_time / tau, npts)\n",
    "solution = model.default_solver.solve(model, t_eval)\n",
    "label = [\"Frequency: {} Hz\".format(omega)]\n",
    "\n",
    "# plot current and voltage\n",
    "output_variables = [\"Current [A]\", \"Terminal voltage [V]\"]\n",
    "quick_plot = pybamm.QuickPlot(solution, output_variables, label)\n",
    "\n",
    "import ipywidgets as widgets\n",
    "widgets.interact(quick_plot.plot, t=widgets.FloatSlider(min=0,max=solution.t[-1],step=solution.t[-1]/20,value=0));"
   ]
  },
  {
   "cell_type": "code",
   "execution_count": null,
   "metadata": {},
   "outputs": [],
   "source": []
  }
 ],
 "metadata": {
  "kernelspec": {
   "display_name": "Python 3",
   "language": "python",
   "name": "python3"
  },
  "language_info": {
   "codemirror_mode": {
    "name": "ipython",
    "version": 3
   },
   "file_extension": ".py",
   "mimetype": "text/x-python",
   "name": "python",
   "nbconvert_exporter": "python",
   "pygments_lexer": "ipython3",
   "version": "3.7.3"
  }
 },
 "nbformat": 4,
 "nbformat_minor": 2
}