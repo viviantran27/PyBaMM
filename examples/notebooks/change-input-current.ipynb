{
 "cells": [
  {
   "cell_type": "markdown",
   "metadata": {},
   "source": [
    "# Changing the input current when solving PyBaMM models\n",
    "\n",
    "This notebook shows you how to change the input current when solving PyBaMM models. It also explains how to load in current data from a file, and how to add a user-defined current function. For more examples of different drive cycles see [here](https://github.com/pybamm-team/PyBaMM/tree/master/results/drive_cycles).\n",
    "\n",
    "### Table of Contents\n",
    "1. [Constant current](#constant)\n",
    "1. [Loading in current data](#data)\n",
    "1. [Adding your own current function](#function)"
   ]
  },
  {
   "cell_type": "markdown",
   "metadata": {},
   "source": [
    "## Constant current  <a name=\"constant\"></a>\n",
    "\n",
    "In this notebook we will use the SPM as the example model, and change the input current from the default option. If you are not familiar with running a model in PyBaMM, please see [this](./models/SPM.ipynb) notebook for more details.\n",
    "\n",
    "In PyBaMM, the current function is set using the parameter \"Current function [A]\". Below we load the SPM with the default parameters, and then change the the current function to be an input parameter, so that we can change it easily later."
   ]
  },
  {
   "cell_type": "code",
   "execution_count": 1,
   "metadata": {},
   "outputs": [],
   "source": [
    "import pybamm\n",
    "import numpy as np\n",
    "import os\n",
    "os.chdir(pybamm.__path__[0]+'/..')\n",
    "\n",
    "# create the model\n",
    "model = pybamm.lithium_ion.DFN()\n",
    "\n",
    "# set the default model geometry\n",
    "geometry = model.default_geometry\n",
    "\n",
    "# set the default model parameters\n",
    "param = model.default_parameter_values\n",
    "\n",
    "# change the current function to be an input parameter\n",
    "param[\"Current function [A]\"] = \"[input]\""
   ]
  },
  {
   "cell_type": "markdown",
   "metadata": {},
   "source": [
    "We can now solve the model in the ususal way, with a 16A current"
   ]
  },
  {
   "cell_type": "code",
   "execution_count": 2,
   "metadata": {
    "scrolled": true
   },
   "outputs": [
    {
     "data": {
      "application/vnd.jupyter.widget-view+json": {
       "model_id": "8247adc1a3fd42dba31101bc6b501ed9",
       "version_major": 2,
       "version_minor": 0
      },
      "text/plain": [
       "interactive(children=(FloatSlider(value=0.0, description='t', max=15.050167224080266, step=0.15050167224080266…"
      ]
     },
     "metadata": {},
     "output_type": "display_data"
    }
   ],
   "source": [
    "# set the parameters for the model and the geometry\n",
    "param.process_model(model)\n",
    "param.process_geometry(geometry)\n",
    "\n",
    "# mesh the domains\n",
    "mesh = pybamm.Mesh(geometry, model.default_submesh_types, model.default_var_pts)\n",
    "\n",
    "# discretise the model equations\n",
    "disc = pybamm.Discretisation(mesh, model.default_spatial_methods)\n",
    "disc.process_model(model)\n",
    "\n",
    "# Solve the model at the given time points\n",
    "solver = pybamm.CasadiSolver()\n",
    "n = 300\n",
    "t_eval = np.linspace(0, 500, n)\n",
    "solution = solver.solve(model, t_eval, inputs={\"Current function [A]\": 16})\n",
    "\n",
    "# plot\n",
    "quick_plot = pybamm.QuickPlot(solution)\n",
    "quick_plot.dynamic_plot();"
   ]
  },
  {
   "cell_type": "markdown",
   "metadata": {},
   "source": [
    "PyBaMM can also simulate rest behaviour by setting the current function to zero:"
   ]
  },
  {
   "cell_type": "code",
   "execution_count": 3,
   "metadata": {},
   "outputs": [
    {
     "data": {
      "application/vnd.jupyter.widget-view+json": {
       "model_id": "511a6922f3f34350a543367723f09572",
       "version_major": 2,
       "version_minor": 0
      },
      "text/plain": [
       "interactive(children=(FloatSlider(value=0.0, description='t', max=500.0, step=5.0), Output()), _dom_classes=('…"
      ]
     },
     "metadata": {},
     "output_type": "display_data"
    }
   ],
   "source": [
    "# Solve the model at the given time points\n",
    "solution = solver.solve(model, t_eval, inputs={\"Current function [A]\": 0})\n",
    "\n",
    "# plot\n",
    "quick_plot = pybamm.QuickPlot(solution)\n",
    "quick_plot.dynamic_plot();"
   ]
  },
  {
   "cell_type": "markdown",
   "metadata": {},
   "source": [
    "## Loading in current data <a name=\"data\"></a>\n",
    "\n",
    "Data can be loaded in from a csv file by putting the file in the folder 'input/drive_cycles' and using the prefix \"[current data]\". As an example, we show how to solve the SPM using the US06 drive cycle"
   ]
  },
  {
   "cell_type": "code",
   "execution_count": 4,
   "metadata": {},
   "outputs": [
    {
     "data": {
      "application/vnd.jupyter.widget-view+json": {
       "model_id": "def542dad39b4ddebcd9a555cf684580",
       "version_major": 2,
       "version_minor": 0
      },
      "text/plain": [
       "interactive(children=(FloatSlider(value=0.0, description='t', max=600.0, step=6.0), Output()), _dom_classes=('…"
      ]
     },
     "metadata": {},
     "output_type": "display_data"
    }
   ],
   "source": [
    "model = pybamm.lithium_ion.DFN()\n",
    "\n",
    "# create geometry\n",
    "geometry = model.default_geometry\n",
    "\n",
    "# load parameter values and process model and geometry\n",
    "param = model.default_parameter_values\n",
    "param[\"Current function [A]\"] = \"[current data]US06\"\n",
    "param.process_model(model)\n",
    "param.process_geometry(geometry)\n",
    "\n",
    "# set mesh\n",
    "mesh = pybamm.Mesh(geometry, model.default_submesh_types, model.default_var_pts)\n",
    "\n",
    "# discretise model\n",
    "disc = pybamm.Discretisation(mesh, model.default_spatial_methods)\n",
    "disc.process_model(model)\n",
    "\n",
    "# simulate US06 drive cycle (duration 600 seconds)\n",
    "t_eval = np.linspace(0, 600, 600)\n",
    "solution = solver.solve(model, t_eval)\n",
    "\n",
    "# plot\n",
    "quick_plot = pybamm.QuickPlot(solution)\n",
    "quick_plot.dynamic_plot();"
   ]
  },
  {
   "cell_type": "markdown",
   "metadata": {},
   "source": [
    "Note that some solvers try to evaluate the model equations at a very large value of `t` during the first step. This may raise a warning if the time requested by the solver is outside of the range of the data provided. However, this does not affect the solve since this large timestep is rejected by the solver, and a suitable shorter initial step is taken."
   ]
  },
  {
   "cell_type": "markdown",
   "metadata": {},
   "source": [
    "## Adding your own current function <a name=\"function\"></a>\n",
    "\n",
    "A user defined current function can be passed to any model by specifying either a function or a set of data points for interpolation.\n",
    "\n",
    "For example, you may want to simulate a sinusoidal current with amplitude A and freqency omega. In order to do so you must first define the method"
   ]
  },
  {
   "cell_type": "code",
   "execution_count": 5,
   "metadata": {},
   "outputs": [],
   "source": [
    "# create user-defined function\n",
    "def my_fun(A, omega):\n",
    "    def current(t):\n",
    "        return A * pybamm.sin(2 * np.pi * omega * t)\n",
    "    \n",
    "    return current"
   ]
  },
  {
   "cell_type": "markdown",
   "metadata": {},
   "source": [
    "Note that the function returns a function which takes the input time.\n",
    "Then the model may be loaded and the \"Current function\" parameter updated to `my_fun` called with a specific value of `A` and `omega`"
   ]
  },
  {
   "cell_type": "code",
   "execution_count": 6,
   "metadata": {},
   "outputs": [],
   "source": [
    "model = pybamm.lithium_ion.SPM()\n",
    "\n",
    "# create geometry\n",
    "geometry = model.default_geometry\n",
    "\n",
    "# load default parameter values\n",
    "param = model.default_parameter_values\n",
    "\n",
    "# set user defined current function\n",
    "A = pybamm.electrical_parameters.I_typ\n",
    "omega = 0.1\n",
    "param[\"Current function [A]\"] = my_fun(A,omega)\n",
    "\n",
    "# process model and geometry\n",
    "param.process_model(model)\n",
    "param.process_geometry(geometry)"
   ]
  },
  {
   "cell_type": "markdown",
   "metadata": {},
   "source": [
    "Note that when `my_fun` is evaluated with `A` and `omega`, this creates a new function `current(t)` which can then be used in the expression tree. The model may then be solved in the usual way"
   ]
  },
  {
   "cell_type": "code",
   "execution_count": 7,
   "metadata": {},
   "outputs": [
    {
     "data": {
      "application/vnd.jupyter.widget-view+json": {
       "model_id": "7f4df64df94d410fb9aff92003538b14",
       "version_major": 2,
       "version_minor": 0
      },
      "text/plain": [
       "interactive(children=(FloatSlider(value=0.0, description='t', max=30.0, step=0.3), Output()), _dom_classes=('w…"
      ]
     },
     "metadata": {},
     "output_type": "display_data"
    }
   ],
   "source": [
    "# set mesh\n",
    "mesh = pybamm.Mesh(geometry, model.default_submesh_types, model.default_var_pts)\n",
    "\n",
    "# discretise model\n",
    "disc = pybamm.Discretisation(mesh, model.default_spatial_methods)\n",
    "disc.process_model(model)\n",
    "\n",
    "# Example: simulate for 30 seconds\n",
    "simulation_time = 30  # end time in seconds\n",
    "npts = int(50 * simulation_time * omega)  # need enough timesteps to resolve output\n",
    "t_eval = np.linspace(0, simulation_time, npts)\n",
    "solution = model.default_solver.solve(model, t_eval)\n",
    "label = [\"Frequency: {} Hz\".format(omega)]\n",
    "\n",
    "# plot current and voltage\n",
    "output_variables = [\"Current [A]\", \"Terminal voltage [V]\"]\n",
    "quick_plot = pybamm.QuickPlot(solution, output_variables, label)\n",
    "quick_plot.dynamic_plot();"
   ]
  },
  {
   "cell_type": "code",
   "execution_count": null,
   "metadata": {},
   "outputs": [],
   "source": []
  }
 ],
 "metadata": {
  "kernelspec": {
   "display_name": "Python 3",
   "language": "python",
   "name": "python3"
  },
  "language_info": {
   "codemirror_mode": {
    "name": "ipython",
    "version": 3
   },
   "file_extension": ".py",
   "mimetype": "text/x-python",
   "name": "python",
   "nbconvert_exporter": "python",
   "pygments_lexer": "ipython3",
   "version": "3.7.3"
  }
 },
 "nbformat": 4,
 "nbformat_minor": 2
}